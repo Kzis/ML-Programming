{
  "nbformat": 4,
  "nbformat_minor": 0,
  "metadata": {
    "colab": {
      "name": " Breast Cancer Wisconsin .ipynb",
      "version": "0.3.2",
      "provenance": [],
      "include_colab_link": true
    },
    "kernelspec": {
      "name": "python3",
      "display_name": "Python 3"
    }
  },
  "cells": [
    {
      "cell_type": "markdown",
      "metadata": {
        "id": "view-in-github",
        "colab_type": "text"
      },
      "source": [
        "<a href=\"https://colab.research.google.com/github/Kzis/ML-Programming/blob/master/06/inclass/Breast_Cancer_Wisconsin_.ipynb\" target=\"_parent\"><img src=\"https://colab.research.google.com/assets/colab-badge.svg\" alt=\"Open In Colab\"/></a>"
      ]
    },
    {
      "cell_type": "markdown",
      "metadata": {
        "id": "qS4aMAP__I1t",
        "colab_type": "text"
      },
      "source": [
        "### Exploratory Data Analysis"
      ]
    },
    {
      "cell_type": "code",
      "metadata": {
        "id": "Q1Idw8ox8CPj",
        "colab_type": "code",
        "colab": {}
      },
      "source": [
        "import numpy as np\n",
        "import pandas as pd\n",
        "import matplotlib.pyplot as plt\n",
        "import seaborn as sns\n",
        "%matplotlib inline"
      ],
      "execution_count": 0,
      "outputs": []
    },
    {
      "cell_type": "code",
      "metadata": {
        "id": "-jzbTL5S8H5_",
        "colab_type": "code",
        "colab": {}
      },
      "source": [
        "sns.set()"
      ],
      "execution_count": 0,
      "outputs": []
    },
    {
      "cell_type": "code",
      "metadata": {
        "id": "LMbM0cps8DG7",
        "colab_type": "code",
        "colab": {}
      },
      "source": [
        "url = 'https://raw.githubusercontent.com/Kzis/ML-Programming/master/06/inclass/breast-cancer-wisconsin-data.csv'\n",
        "breast_cancer_wisconsin = pd.read_csv(url)"
      ],
      "execution_count": 0,
      "outputs": []
    },
    {
      "cell_type": "code",
      "metadata": {
        "id": "59mKKaqHI4t6",
        "colab_type": "code",
        "colab": {
          "base_uri": "https://localhost:8080/",
          "height": 527
        },
        "outputId": "b5726240-1793-4a9f-fe43-6f41dac64285"
      },
      "source": [
        "labels = list(breast_cancer_wisconsin)\n",
        "labels"
      ],
      "execution_count": 100,
      "outputs": [
        {
          "output_type": "execute_result",
          "data": {
            "text/plain": [
              "['radius_mean',\n",
              " 'texture_mean',\n",
              " 'perimeter_mean',\n",
              " 'area_mean',\n",
              " 'smoothness_mean',\n",
              " 'compactness_mean',\n",
              " 'concavity_mean',\n",
              " 'concave points_mean',\n",
              " 'symmetry_mean',\n",
              " 'fractal_dimension_mean',\n",
              " 'radius_se',\n",
              " 'texture_se',\n",
              " 'perimeter_se',\n",
              " 'area_se',\n",
              " 'smoothness_se',\n",
              " 'compactness_se',\n",
              " 'concavity_se',\n",
              " 'concave points_se',\n",
              " 'symmetry_se',\n",
              " 'fractal_dimension_se',\n",
              " 'radius_worst',\n",
              " 'texture_worst',\n",
              " 'perimeter_worst',\n",
              " 'area_worst',\n",
              " 'smoothness_worst',\n",
              " 'compactness_worst',\n",
              " 'concavity_worst',\n",
              " 'concave points_worst',\n",
              " 'symmetry_worst',\n",
              " 'fractal_dimension_worst']"
            ]
          },
          "metadata": {
            "tags": []
          },
          "execution_count": 100
        }
      ]
    },
    {
      "cell_type": "code",
      "metadata": {
        "id": "mI6kvUdc-eBD",
        "colab_type": "code",
        "colab": {
          "base_uri": "https://localhost:8080/",
          "height": 34
        },
        "outputId": "02a91d60-7d18-484f-ce00-6f53e33aa39c"
      },
      "source": [
        "breast_cancer_wisconsin.shape"
      ],
      "execution_count": 72,
      "outputs": [
        {
          "output_type": "execute_result",
          "data": {
            "text/plain": [
              "(569, 33)"
            ]
          },
          "metadata": {
            "tags": []
          },
          "execution_count": 72
        }
      ]
    },
    {
      "cell_type": "code",
      "metadata": {
        "id": "mJL7pphm8XKy",
        "colab_type": "code",
        "colab": {
          "base_uri": "https://localhost:8080/",
          "height": 241
        },
        "outputId": "2a3455aa-e5c9-484a-adc4-e9bac5ae2fb8"
      },
      "source": [
        "breast_cancer_wisconsin.head()\n"
      ],
      "execution_count": 73,
      "outputs": [
        {
          "output_type": "execute_result",
          "data": {
            "text/html": [
              "<div>\n",
              "<style scoped>\n",
              "    .dataframe tbody tr th:only-of-type {\n",
              "        vertical-align: middle;\n",
              "    }\n",
              "\n",
              "    .dataframe tbody tr th {\n",
              "        vertical-align: top;\n",
              "    }\n",
              "\n",
              "    .dataframe thead th {\n",
              "        text-align: right;\n",
              "    }\n",
              "</style>\n",
              "<table border=\"1\" class=\"dataframe\">\n",
              "  <thead>\n",
              "    <tr style=\"text-align: right;\">\n",
              "      <th></th>\n",
              "      <th>id</th>\n",
              "      <th>diagnosis</th>\n",
              "      <th>radius_mean</th>\n",
              "      <th>texture_mean</th>\n",
              "      <th>perimeter_mean</th>\n",
              "      <th>area_mean</th>\n",
              "      <th>smoothness_mean</th>\n",
              "      <th>compactness_mean</th>\n",
              "      <th>concavity_mean</th>\n",
              "      <th>concave points_mean</th>\n",
              "      <th>symmetry_mean</th>\n",
              "      <th>fractal_dimension_mean</th>\n",
              "      <th>radius_se</th>\n",
              "      <th>texture_se</th>\n",
              "      <th>perimeter_se</th>\n",
              "      <th>area_se</th>\n",
              "      <th>smoothness_se</th>\n",
              "      <th>compactness_se</th>\n",
              "      <th>concavity_se</th>\n",
              "      <th>concave points_se</th>\n",
              "      <th>symmetry_se</th>\n",
              "      <th>fractal_dimension_se</th>\n",
              "      <th>radius_worst</th>\n",
              "      <th>texture_worst</th>\n",
              "      <th>perimeter_worst</th>\n",
              "      <th>area_worst</th>\n",
              "      <th>smoothness_worst</th>\n",
              "      <th>compactness_worst</th>\n",
              "      <th>concavity_worst</th>\n",
              "      <th>concave points_worst</th>\n",
              "      <th>symmetry_worst</th>\n",
              "      <th>fractal_dimension_worst</th>\n",
              "      <th>Unnamed: 32</th>\n",
              "    </tr>\n",
              "  </thead>\n",
              "  <tbody>\n",
              "    <tr>\n",
              "      <th>0</th>\n",
              "      <td>842302</td>\n",
              "      <td>M</td>\n",
              "      <td>17.99</td>\n",
              "      <td>10.38</td>\n",
              "      <td>122.80</td>\n",
              "      <td>1001.0</td>\n",
              "      <td>0.11840</td>\n",
              "      <td>0.27760</td>\n",
              "      <td>0.3001</td>\n",
              "      <td>0.14710</td>\n",
              "      <td>0.2419</td>\n",
              "      <td>0.07871</td>\n",
              "      <td>1.0950</td>\n",
              "      <td>0.9053</td>\n",
              "      <td>8.589</td>\n",
              "      <td>153.40</td>\n",
              "      <td>0.006399</td>\n",
              "      <td>0.04904</td>\n",
              "      <td>0.05373</td>\n",
              "      <td>0.01587</td>\n",
              "      <td>0.03003</td>\n",
              "      <td>0.006193</td>\n",
              "      <td>25.38</td>\n",
              "      <td>17.33</td>\n",
              "      <td>184.60</td>\n",
              "      <td>2019.0</td>\n",
              "      <td>0.1622</td>\n",
              "      <td>0.6656</td>\n",
              "      <td>0.7119</td>\n",
              "      <td>0.2654</td>\n",
              "      <td>0.4601</td>\n",
              "      <td>0.11890</td>\n",
              "      <td>NaN</td>\n",
              "    </tr>\n",
              "    <tr>\n",
              "      <th>1</th>\n",
              "      <td>842517</td>\n",
              "      <td>M</td>\n",
              "      <td>20.57</td>\n",
              "      <td>17.77</td>\n",
              "      <td>132.90</td>\n",
              "      <td>1326.0</td>\n",
              "      <td>0.08474</td>\n",
              "      <td>0.07864</td>\n",
              "      <td>0.0869</td>\n",
              "      <td>0.07017</td>\n",
              "      <td>0.1812</td>\n",
              "      <td>0.05667</td>\n",
              "      <td>0.5435</td>\n",
              "      <td>0.7339</td>\n",
              "      <td>3.398</td>\n",
              "      <td>74.08</td>\n",
              "      <td>0.005225</td>\n",
              "      <td>0.01308</td>\n",
              "      <td>0.01860</td>\n",
              "      <td>0.01340</td>\n",
              "      <td>0.01389</td>\n",
              "      <td>0.003532</td>\n",
              "      <td>24.99</td>\n",
              "      <td>23.41</td>\n",
              "      <td>158.80</td>\n",
              "      <td>1956.0</td>\n",
              "      <td>0.1238</td>\n",
              "      <td>0.1866</td>\n",
              "      <td>0.2416</td>\n",
              "      <td>0.1860</td>\n",
              "      <td>0.2750</td>\n",
              "      <td>0.08902</td>\n",
              "      <td>NaN</td>\n",
              "    </tr>\n",
              "    <tr>\n",
              "      <th>2</th>\n",
              "      <td>84300903</td>\n",
              "      <td>M</td>\n",
              "      <td>19.69</td>\n",
              "      <td>21.25</td>\n",
              "      <td>130.00</td>\n",
              "      <td>1203.0</td>\n",
              "      <td>0.10960</td>\n",
              "      <td>0.15990</td>\n",
              "      <td>0.1974</td>\n",
              "      <td>0.12790</td>\n",
              "      <td>0.2069</td>\n",
              "      <td>0.05999</td>\n",
              "      <td>0.7456</td>\n",
              "      <td>0.7869</td>\n",
              "      <td>4.585</td>\n",
              "      <td>94.03</td>\n",
              "      <td>0.006150</td>\n",
              "      <td>0.04006</td>\n",
              "      <td>0.03832</td>\n",
              "      <td>0.02058</td>\n",
              "      <td>0.02250</td>\n",
              "      <td>0.004571</td>\n",
              "      <td>23.57</td>\n",
              "      <td>25.53</td>\n",
              "      <td>152.50</td>\n",
              "      <td>1709.0</td>\n",
              "      <td>0.1444</td>\n",
              "      <td>0.4245</td>\n",
              "      <td>0.4504</td>\n",
              "      <td>0.2430</td>\n",
              "      <td>0.3613</td>\n",
              "      <td>0.08758</td>\n",
              "      <td>NaN</td>\n",
              "    </tr>\n",
              "    <tr>\n",
              "      <th>3</th>\n",
              "      <td>84348301</td>\n",
              "      <td>M</td>\n",
              "      <td>11.42</td>\n",
              "      <td>20.38</td>\n",
              "      <td>77.58</td>\n",
              "      <td>386.1</td>\n",
              "      <td>0.14250</td>\n",
              "      <td>0.28390</td>\n",
              "      <td>0.2414</td>\n",
              "      <td>0.10520</td>\n",
              "      <td>0.2597</td>\n",
              "      <td>0.09744</td>\n",
              "      <td>0.4956</td>\n",
              "      <td>1.1560</td>\n",
              "      <td>3.445</td>\n",
              "      <td>27.23</td>\n",
              "      <td>0.009110</td>\n",
              "      <td>0.07458</td>\n",
              "      <td>0.05661</td>\n",
              "      <td>0.01867</td>\n",
              "      <td>0.05963</td>\n",
              "      <td>0.009208</td>\n",
              "      <td>14.91</td>\n",
              "      <td>26.50</td>\n",
              "      <td>98.87</td>\n",
              "      <td>567.7</td>\n",
              "      <td>0.2098</td>\n",
              "      <td>0.8663</td>\n",
              "      <td>0.6869</td>\n",
              "      <td>0.2575</td>\n",
              "      <td>0.6638</td>\n",
              "      <td>0.17300</td>\n",
              "      <td>NaN</td>\n",
              "    </tr>\n",
              "    <tr>\n",
              "      <th>4</th>\n",
              "      <td>84358402</td>\n",
              "      <td>M</td>\n",
              "      <td>20.29</td>\n",
              "      <td>14.34</td>\n",
              "      <td>135.10</td>\n",
              "      <td>1297.0</td>\n",
              "      <td>0.10030</td>\n",
              "      <td>0.13280</td>\n",
              "      <td>0.1980</td>\n",
              "      <td>0.10430</td>\n",
              "      <td>0.1809</td>\n",
              "      <td>0.05883</td>\n",
              "      <td>0.7572</td>\n",
              "      <td>0.7813</td>\n",
              "      <td>5.438</td>\n",
              "      <td>94.44</td>\n",
              "      <td>0.011490</td>\n",
              "      <td>0.02461</td>\n",
              "      <td>0.05688</td>\n",
              "      <td>0.01885</td>\n",
              "      <td>0.01756</td>\n",
              "      <td>0.005115</td>\n",
              "      <td>22.54</td>\n",
              "      <td>16.67</td>\n",
              "      <td>152.20</td>\n",
              "      <td>1575.0</td>\n",
              "      <td>0.1374</td>\n",
              "      <td>0.2050</td>\n",
              "      <td>0.4000</td>\n",
              "      <td>0.1625</td>\n",
              "      <td>0.2364</td>\n",
              "      <td>0.07678</td>\n",
              "      <td>NaN</td>\n",
              "    </tr>\n",
              "  </tbody>\n",
              "</table>\n",
              "</div>"
            ],
            "text/plain": [
              "         id diagnosis  ...  fractal_dimension_worst  Unnamed: 32\n",
              "0    842302         M  ...                  0.11890          NaN\n",
              "1    842517         M  ...                  0.08902          NaN\n",
              "2  84300903         M  ...                  0.08758          NaN\n",
              "3  84348301         M  ...                  0.17300          NaN\n",
              "4  84358402         M  ...                  0.07678          NaN\n",
              "\n",
              "[5 rows x 33 columns]"
            ]
          },
          "metadata": {
            "tags": []
          },
          "execution_count": 73
        }
      ]
    },
    {
      "cell_type": "code",
      "metadata": {
        "id": "VSAFpSZJ_kjK",
        "colab_type": "code",
        "colab": {
          "base_uri": "https://localhost:8080/",
          "height": 384
        },
        "outputId": "dfded539-3901-46f4-ab5a-eec5d9113312"
      },
      "source": [
        "sns.heatmap(breast_cancer_wisconsin.isnull(), yticklabels=False, cbar=False, cmap='viridis')"
      ],
      "execution_count": 74,
      "outputs": [
        {
          "output_type": "execute_result",
          "data": {
            "text/plain": [
              "<matplotlib.axes._subplots.AxesSubplot at 0x7fd19370afd0>"
            ]
          },
          "metadata": {
            "tags": []
          },
          "execution_count": 74
        },
        {
          "output_type": "display_data",
          "data": {
            "image/png": "[encoded data removed]",
            "text/plain": [
              "<Figure size 432x288 with 1 Axes>"
            ]
          },
          "metadata": {
            "tags": []
          }
        }
      ]
    },
    {
      "cell_type": "code",
      "metadata": {
        "id": "SkBibOF8AOaJ",
        "colab_type": "code",
        "colab": {}
      },
      "source": [
        "cols = ['id','Unnamed: 32']\n",
        "breast_cancer_wisconsin.drop(cols, axis=1, inplace=True)"
      ],
      "execution_count": 0,
      "outputs": []
    },
    {
      "cell_type": "code",
      "metadata": {
        "id": "FNzzkUAkBbIB",
        "colab_type": "code",
        "colab": {
          "base_uri": "https://localhost:8080/",
          "height": 34
        },
        "outputId": "122987d3-5fbf-43fa-81e0-5879dae5d219"
      },
      "source": [
        "breast_cancer_wisconsin.shape"
      ],
      "execution_count": 76,
      "outputs": [
        {
          "output_type": "execute_result",
          "data": {
            "text/plain": [
              "(569, 31)"
            ]
          },
          "metadata": {
            "tags": []
          },
          "execution_count": 76
        }
      ]
    },
    {
      "cell_type": "code",
      "metadata": {
        "id": "N_wWN-6JDTG7",
        "colab_type": "code",
        "colab": {
          "base_uri": "https://localhost:8080/",
          "height": 334
        },
        "outputId": "f33d6112-77cb-4091-9fb7-9d389cf17b4f"
      },
      "source": [
        "breast_cancer_wisconsin.describe()"
      ],
      "execution_count": 79,
      "outputs": [
        {
          "output_type": "execute_result",
          "data": {
            "text/html": [
              "<div>\n",
              "<style scoped>\n",
              "    .dataframe tbody tr th:only-of-type {\n",
              "        vertical-align: middle;\n",
              "    }\n",
              "\n",
              "    .dataframe tbody tr th {\n",
              "        vertical-align: top;\n",
              "    }\n",
              "\n",
              "    .dataframe thead th {\n",
              "        text-align: right;\n",
              "    }\n",
              "</style>\n",
              "<table border=\"1\" class=\"dataframe\">\n",
              "  <thead>\n",
              "    <tr style=\"text-align: right;\">\n",
              "      <th></th>\n",
              "      <th>radius_mean</th>\n",
              "      <th>texture_mean</th>\n",
              "      <th>perimeter_mean</th>\n",
              "      <th>area_mean</th>\n",
              "      <th>smoothness_mean</th>\n",
              "      <th>compactness_mean</th>\n",
              "      <th>concavity_mean</th>\n",
              "      <th>concave points_mean</th>\n",
              "      <th>symmetry_mean</th>\n",
              "      <th>fractal_dimension_mean</th>\n",
              "      <th>radius_se</th>\n",
              "      <th>texture_se</th>\n",
              "      <th>perimeter_se</th>\n",
              "      <th>area_se</th>\n",
              "      <th>smoothness_se</th>\n",
              "      <th>compactness_se</th>\n",
              "      <th>concavity_se</th>\n",
              "      <th>concave points_se</th>\n",
              "      <th>symmetry_se</th>\n",
              "      <th>fractal_dimension_se</th>\n",
              "      <th>radius_worst</th>\n",
              "      <th>texture_worst</th>\n",
              "      <th>perimeter_worst</th>\n",
              "      <th>area_worst</th>\n",
              "      <th>smoothness_worst</th>\n",
              "      <th>compactness_worst</th>\n",
              "      <th>concavity_worst</th>\n",
              "      <th>concave points_worst</th>\n",
              "      <th>symmetry_worst</th>\n",
              "      <th>fractal_dimension_worst</th>\n",
              "    </tr>\n",
              "  </thead>\n",
              "  <tbody>\n",
              "    <tr>\n",
              "      <th>count</th>\n",
              "      <td>569.000000</td>\n",
              "      <td>569.000000</td>\n",
              "      <td>569.000000</td>\n",
              "      <td>569.000000</td>\n",
              "      <td>569.000000</td>\n",
              "      <td>569.000000</td>\n",
              "      <td>569.000000</td>\n",
              "      <td>569.000000</td>\n",
              "      <td>569.000000</td>\n",
              "      <td>569.000000</td>\n",
              "      <td>569.000000</td>\n",
              "      <td>569.000000</td>\n",
              "      <td>569.000000</td>\n",
              "      <td>569.000000</td>\n",
              "      <td>569.000000</td>\n",
              "      <td>569.000000</td>\n",
              "      <td>569.000000</td>\n",
              "      <td>569.000000</td>\n",
              "      <td>569.000000</td>\n",
              "      <td>569.000000</td>\n",
              "      <td>569.000000</td>\n",
              "      <td>569.000000</td>\n",
              "      <td>569.000000</td>\n",
              "      <td>569.000000</td>\n",
              "      <td>569.000000</td>\n",
              "      <td>569.000000</td>\n",
              "      <td>569.000000</td>\n",
              "      <td>569.000000</td>\n",
              "      <td>569.000000</td>\n",
              "      <td>569.000000</td>\n",
              "    </tr>\n",
              "    <tr>\n",
              "      <th>mean</th>\n",
              "      <td>14.127292</td>\n",
              "      <td>19.289649</td>\n",
              "      <td>91.969033</td>\n",
              "      <td>654.889104</td>\n",
              "      <td>0.096360</td>\n",
              "      <td>0.104341</td>\n",
              "      <td>0.088799</td>\n",
              "      <td>0.048919</td>\n",
              "      <td>0.181162</td>\n",
              "      <td>0.062798</td>\n",
              "      <td>0.405172</td>\n",
              "      <td>1.216853</td>\n",
              "      <td>2.866059</td>\n",
              "      <td>40.337079</td>\n",
              "      <td>0.007041</td>\n",
              "      <td>0.025478</td>\n",
              "      <td>0.031894</td>\n",
              "      <td>0.011796</td>\n",
              "      <td>0.020542</td>\n",
              "      <td>0.003795</td>\n",
              "      <td>16.269190</td>\n",
              "      <td>25.677223</td>\n",
              "      <td>107.261213</td>\n",
              "      <td>880.583128</td>\n",
              "      <td>0.132369</td>\n",
              "      <td>0.254265</td>\n",
              "      <td>0.272188</td>\n",
              "      <td>0.114606</td>\n",
              "      <td>0.290076</td>\n",
              "      <td>0.083946</td>\n",
              "    </tr>\n",
              "    <tr>\n",
              "      <th>std</th>\n",
              "      <td>3.524049</td>\n",
              "      <td>4.301036</td>\n",
              "      <td>24.298981</td>\n",
              "      <td>351.914129</td>\n",
              "      <td>0.014064</td>\n",
              "      <td>0.052813</td>\n",
              "      <td>0.079720</td>\n",
              "      <td>0.038803</td>\n",
              "      <td>0.027414</td>\n",
              "      <td>0.007060</td>\n",
              "      <td>0.277313</td>\n",
              "      <td>0.551648</td>\n",
              "      <td>2.021855</td>\n",
              "      <td>45.491006</td>\n",
              "      <td>0.003003</td>\n",
              "      <td>0.017908</td>\n",
              "      <td>0.030186</td>\n",
              "      <td>0.006170</td>\n",
              "      <td>0.008266</td>\n",
              "      <td>0.002646</td>\n",
              "      <td>4.833242</td>\n",
              "      <td>6.146258</td>\n",
              "      <td>33.602542</td>\n",
              "      <td>569.356993</td>\n",
              "      <td>0.022832</td>\n",
              "      <td>0.157336</td>\n",
              "      <td>0.208624</td>\n",
              "      <td>0.065732</td>\n",
              "      <td>0.061867</td>\n",
              "      <td>0.018061</td>\n",
              "    </tr>\n",
              "    <tr>\n",
              "      <th>min</th>\n",
              "      <td>6.981000</td>\n",
              "      <td>9.710000</td>\n",
              "      <td>43.790000</td>\n",
              "      <td>143.500000</td>\n",
              "      <td>0.052630</td>\n",
              "      <td>0.019380</td>\n",
              "      <td>0.000000</td>\n",
              "      <td>0.000000</td>\n",
              "      <td>0.106000</td>\n",
              "      <td>0.049960</td>\n",
              "      <td>0.111500</td>\n",
              "      <td>0.360200</td>\n",
              "      <td>0.757000</td>\n",
              "      <td>6.802000</td>\n",
              "      <td>0.001713</td>\n",
              "      <td>0.002252</td>\n",
              "      <td>0.000000</td>\n",
              "      <td>0.000000</td>\n",
              "      <td>0.007882</td>\n",
              "      <td>0.000895</td>\n",
              "      <td>7.930000</td>\n",
              "      <td>12.020000</td>\n",
              "      <td>50.410000</td>\n",
              "      <td>185.200000</td>\n",
              "      <td>0.071170</td>\n",
              "      <td>0.027290</td>\n",
              "      <td>0.000000</td>\n",
              "      <td>0.000000</td>\n",
              "      <td>0.156500</td>\n",
              "      <td>0.055040</td>\n",
              "    </tr>\n",
              "    <tr>\n",
              "      <th>25%</th>\n",
              "      <td>11.700000</td>\n",
              "      <td>16.170000</td>\n",
              "      <td>75.170000</td>\n",
              "      <td>420.300000</td>\n",
              "      <td>0.086370</td>\n",
              "      <td>0.064920</td>\n",
              "      <td>0.029560</td>\n",
              "      <td>0.020310</td>\n",
              "      <td>0.161900</td>\n",
              "      <td>0.057700</td>\n",
              "      <td>0.232400</td>\n",
              "      <td>0.833900</td>\n",
              "      <td>1.606000</td>\n",
              "      <td>17.850000</td>\n",
              "      <td>0.005169</td>\n",
              "      <td>0.013080</td>\n",
              "      <td>0.015090</td>\n",
              "      <td>0.007638</td>\n",
              "      <td>0.015160</td>\n",
              "      <td>0.002248</td>\n",
              "      <td>13.010000</td>\n",
              "      <td>21.080000</td>\n",
              "      <td>84.110000</td>\n",
              "      <td>515.300000</td>\n",
              "      <td>0.116600</td>\n",
              "      <td>0.147200</td>\n",
              "      <td>0.114500</td>\n",
              "      <td>0.064930</td>\n",
              "      <td>0.250400</td>\n",
              "      <td>0.071460</td>\n",
              "    </tr>\n",
              "    <tr>\n",
              "      <th>50%</th>\n",
              "      <td>13.370000</td>\n",
              "      <td>18.840000</td>\n",
              "      <td>86.240000</td>\n",
              "      <td>551.100000</td>\n",
              "      <td>0.095870</td>\n",
              "      <td>0.092630</td>\n",
              "      <td>0.061540</td>\n",
              "      <td>0.033500</td>\n",
              "      <td>0.179200</td>\n",
              "      <td>0.061540</td>\n",
              "      <td>0.324200</td>\n",
              "      <td>1.108000</td>\n",
              "      <td>2.287000</td>\n",
              "      <td>24.530000</td>\n",
              "      <td>0.006380</td>\n",
              "      <td>0.020450</td>\n",
              "      <td>0.025890</td>\n",
              "      <td>0.010930</td>\n",
              "      <td>0.018730</td>\n",
              "      <td>0.003187</td>\n",
              "      <td>14.970000</td>\n",
              "      <td>25.410000</td>\n",
              "      <td>97.660000</td>\n",
              "      <td>686.500000</td>\n",
              "      <td>0.131300</td>\n",
              "      <td>0.211900</td>\n",
              "      <td>0.226700</td>\n",
              "      <td>0.099930</td>\n",
              "      <td>0.282200</td>\n",
              "      <td>0.080040</td>\n",
              "    </tr>\n",
              "    <tr>\n",
              "      <th>75%</th>\n",
              "      <td>15.780000</td>\n",
              "      <td>21.800000</td>\n",
              "      <td>104.100000</td>\n",
              "      <td>782.700000</td>\n",
              "      <td>0.105300</td>\n",
              "      <td>0.130400</td>\n",
              "      <td>0.130700</td>\n",
              "      <td>0.074000</td>\n",
              "      <td>0.195700</td>\n",
              "      <td>0.066120</td>\n",
              "      <td>0.478900</td>\n",
              "      <td>1.474000</td>\n",
              "      <td>3.357000</td>\n",
              "      <td>45.190000</td>\n",
              "      <td>0.008146</td>\n",
              "      <td>0.032450</td>\n",
              "      <td>0.042050</td>\n",
              "      <td>0.014710</td>\n",
              "      <td>0.023480</td>\n",
              "      <td>0.004558</td>\n",
              "      <td>18.790000</td>\n",
              "      <td>29.720000</td>\n",
              "      <td>125.400000</td>\n",
              "      <td>1084.000000</td>\n",
              "      <td>0.146000</td>\n",
              "      <td>0.339100</td>\n",
              "      <td>0.382900</td>\n",
              "      <td>0.161400</td>\n",
              "      <td>0.317900</td>\n",
              "      <td>0.092080</td>\n",
              "    </tr>\n",
              "    <tr>\n",
              "      <th>max</th>\n",
              "      <td>28.110000</td>\n",
              "      <td>39.280000</td>\n",
              "      <td>188.500000</td>\n",
              "      <td>2501.000000</td>\n",
              "      <td>0.163400</td>\n",
              "      <td>0.345400</td>\n",
              "      <td>0.426800</td>\n",
              "      <td>0.201200</td>\n",
              "      <td>0.304000</td>\n",
              "      <td>0.097440</td>\n",
              "      <td>2.873000</td>\n",
              "      <td>4.885000</td>\n",
              "      <td>21.980000</td>\n",
              "      <td>542.200000</td>\n",
              "      <td>0.031130</td>\n",
              "      <td>0.135400</td>\n",
              "      <td>0.396000</td>\n",
              "      <td>0.052790</td>\n",
              "      <td>0.078950</td>\n",
              "      <td>0.029840</td>\n",
              "      <td>36.040000</td>\n",
              "      <td>49.540000</td>\n",
              "      <td>251.200000</td>\n",
              "      <td>4254.000000</td>\n",
              "      <td>0.222600</td>\n",
              "      <td>1.058000</td>\n",
              "      <td>1.252000</td>\n",
              "      <td>0.291000</td>\n",
              "      <td>0.663800</td>\n",
              "      <td>0.207500</td>\n",
              "    </tr>\n",
              "  </tbody>\n",
              "</table>\n",
              "</div>"
            ],
            "text/plain": [
              "       radius_mean  texture_mean  ...  symmetry_worst  fractal_dimension_worst\n",
              "count   569.000000    569.000000  ...      569.000000               569.000000\n",
              "mean     14.127292     19.289649  ...        0.290076                 0.083946\n",
              "std       3.524049      4.301036  ...        0.061867                 0.018061\n",
              "min       6.981000      9.710000  ...        0.156500                 0.055040\n",
              "25%      11.700000     16.170000  ...        0.250400                 0.071460\n",
              "50%      13.370000     18.840000  ...        0.282200                 0.080040\n",
              "75%      15.780000     21.800000  ...        0.317900                 0.092080\n",
              "max      28.110000     39.280000  ...        0.663800                 0.207500\n",
              "\n",
              "[8 rows x 30 columns]"
            ]
          },
          "metadata": {
            "tags": []
          },
          "execution_count": 79
        }
      ]
    },
    {
      "cell_type": "code",
      "metadata": {
        "id": "55fuGttAD846",
        "colab_type": "code",
        "colab": {}
      },
      "source": [
        "y = breast_cancer_wisconsin['diagnosis']"
      ],
      "execution_count": 0,
      "outputs": []
    },
    {
      "cell_type": "code",
      "metadata": {
        "id": "-I919XmKEHSf",
        "colab_type": "code",
        "colab": {
          "base_uri": "https://localhost:8080/",
          "height": 68
        },
        "outputId": "f3b89dac-33f5-4f10-e698-09fedb893a23"
      },
      "source": [
        "y.value_counts()"
      ],
      "execution_count": 81,
      "outputs": [
        {
          "output_type": "execute_result",
          "data": {
            "text/plain": [
              "B    357\n",
              "M    212\n",
              "Name: diagnosis, dtype: int64"
            ]
          },
          "metadata": {
            "tags": []
          },
          "execution_count": 81
        }
      ]
    },
    {
      "cell_type": "code",
      "metadata": {
        "id": "sbZujDQJFK0X",
        "colab_type": "code",
        "colab": {}
      },
      "source": [
        "cols = ['diagnosis']\n",
        "breast_cancer_wisconsin.drop(cols, axis=1, inplace=True)"
      ],
      "execution_count": 0,
      "outputs": []
    },
    {
      "cell_type": "code",
      "metadata": {
        "id": "DTaqQpbXFmuq",
        "colab_type": "code",
        "colab": {
          "base_uri": "https://localhost:8080/",
          "height": 241
        },
        "outputId": "86a5c509-d8e5-45f4-c153-f60ed22cb583"
      },
      "source": [
        "X.head()"
      ],
      "execution_count": 83,
      "outputs": [
        {
          "output_type": "execute_result",
          "data": {
            "text/html": [
              "<div>\n",
              "<style scoped>\n",
              "    .dataframe tbody tr th:only-of-type {\n",
              "        vertical-align: middle;\n",
              "    }\n",
              "\n",
              "    .dataframe tbody tr th {\n",
              "        vertical-align: top;\n",
              "    }\n",
              "\n",
              "    .dataframe thead th {\n",
              "        text-align: right;\n",
              "    }\n",
              "</style>\n",
              "<table border=\"1\" class=\"dataframe\">\n",
              "  <thead>\n",
              "    <tr style=\"text-align: right;\">\n",
              "      <th></th>\n",
              "      <th>radius_mean</th>\n",
              "      <th>texture_mean</th>\n",
              "      <th>perimeter_mean</th>\n",
              "      <th>area_mean</th>\n",
              "      <th>smoothness_mean</th>\n",
              "      <th>compactness_mean</th>\n",
              "      <th>concavity_mean</th>\n",
              "      <th>concave points_mean</th>\n",
              "      <th>symmetry_mean</th>\n",
              "      <th>fractal_dimension_mean</th>\n",
              "      <th>radius_se</th>\n",
              "      <th>texture_se</th>\n",
              "      <th>perimeter_se</th>\n",
              "      <th>area_se</th>\n",
              "      <th>smoothness_se</th>\n",
              "      <th>compactness_se</th>\n",
              "      <th>concavity_se</th>\n",
              "      <th>concave points_se</th>\n",
              "      <th>symmetry_se</th>\n",
              "      <th>fractal_dimension_se</th>\n",
              "      <th>radius_worst</th>\n",
              "      <th>texture_worst</th>\n",
              "      <th>perimeter_worst</th>\n",
              "      <th>area_worst</th>\n",
              "      <th>smoothness_worst</th>\n",
              "      <th>compactness_worst</th>\n",
              "      <th>concavity_worst</th>\n",
              "      <th>concave points_worst</th>\n",
              "      <th>symmetry_worst</th>\n",
              "      <th>fractal_dimension_worst</th>\n",
              "    </tr>\n",
              "  </thead>\n",
              "  <tbody>\n",
              "    <tr>\n",
              "      <th>0</th>\n",
              "      <td>17.99</td>\n",
              "      <td>10.38</td>\n",
              "      <td>122.80</td>\n",
              "      <td>1001.0</td>\n",
              "      <td>0.11840</td>\n",
              "      <td>0.27760</td>\n",
              "      <td>0.3001</td>\n",
              "      <td>0.14710</td>\n",
              "      <td>0.2419</td>\n",
              "      <td>0.07871</td>\n",
              "      <td>1.0950</td>\n",
              "      <td>0.9053</td>\n",
              "      <td>8.589</td>\n",
              "      <td>153.40</td>\n",
              "      <td>0.006399</td>\n",
              "      <td>0.04904</td>\n",
              "      <td>0.05373</td>\n",
              "      <td>0.01587</td>\n",
              "      <td>0.03003</td>\n",
              "      <td>0.006193</td>\n",
              "      <td>25.38</td>\n",
              "      <td>17.33</td>\n",
              "      <td>184.60</td>\n",
              "      <td>2019.0</td>\n",
              "      <td>0.1622</td>\n",
              "      <td>0.6656</td>\n",
              "      <td>0.7119</td>\n",
              "      <td>0.2654</td>\n",
              "      <td>0.4601</td>\n",
              "      <td>0.11890</td>\n",
              "    </tr>\n",
              "    <tr>\n",
              "      <th>1</th>\n",
              "      <td>20.57</td>\n",
              "      <td>17.77</td>\n",
              "      <td>132.90</td>\n",
              "      <td>1326.0</td>\n",
              "      <td>0.08474</td>\n",
              "      <td>0.07864</td>\n",
              "      <td>0.0869</td>\n",
              "      <td>0.07017</td>\n",
              "      <td>0.1812</td>\n",
              "      <td>0.05667</td>\n",
              "      <td>0.5435</td>\n",
              "      <td>0.7339</td>\n",
              "      <td>3.398</td>\n",
              "      <td>74.08</td>\n",
              "      <td>0.005225</td>\n",
              "      <td>0.01308</td>\n",
              "      <td>0.01860</td>\n",
              "      <td>0.01340</td>\n",
              "      <td>0.01389</td>\n",
              "      <td>0.003532</td>\n",
              "      <td>24.99</td>\n",
              "      <td>23.41</td>\n",
              "      <td>158.80</td>\n",
              "      <td>1956.0</td>\n",
              "      <td>0.1238</td>\n",
              "      <td>0.1866</td>\n",
              "      <td>0.2416</td>\n",
              "      <td>0.1860</td>\n",
              "      <td>0.2750</td>\n",
              "      <td>0.08902</td>\n",
              "    </tr>\n",
              "    <tr>\n",
              "      <th>2</th>\n",
              "      <td>19.69</td>\n",
              "      <td>21.25</td>\n",
              "      <td>130.00</td>\n",
              "      <td>1203.0</td>\n",
              "      <td>0.10960</td>\n",
              "      <td>0.15990</td>\n",
              "      <td>0.1974</td>\n",
              "      <td>0.12790</td>\n",
              "      <td>0.2069</td>\n",
              "      <td>0.05999</td>\n",
              "      <td>0.7456</td>\n",
              "      <td>0.7869</td>\n",
              "      <td>4.585</td>\n",
              "      <td>94.03</td>\n",
              "      <td>0.006150</td>\n",
              "      <td>0.04006</td>\n",
              "      <td>0.03832</td>\n",
              "      <td>0.02058</td>\n",
              "      <td>0.02250</td>\n",
              "      <td>0.004571</td>\n",
              "      <td>23.57</td>\n",
              "      <td>25.53</td>\n",
              "      <td>152.50</td>\n",
              "      <td>1709.0</td>\n",
              "      <td>0.1444</td>\n",
              "      <td>0.4245</td>\n",
              "      <td>0.4504</td>\n",
              "      <td>0.2430</td>\n",
              "      <td>0.3613</td>\n",
              "      <td>0.08758</td>\n",
              "    </tr>\n",
              "    <tr>\n",
              "      <th>3</th>\n",
              "      <td>11.42</td>\n",
              "      <td>20.38</td>\n",
              "      <td>77.58</td>\n",
              "      <td>386.1</td>\n",
              "      <td>0.14250</td>\n",
              "      <td>0.28390</td>\n",
              "      <td>0.2414</td>\n",
              "      <td>0.10520</td>\n",
              "      <td>0.2597</td>\n",
              "      <td>0.09744</td>\n",
              "      <td>0.4956</td>\n",
              "      <td>1.1560</td>\n",
              "      <td>3.445</td>\n",
              "      <td>27.23</td>\n",
              "      <td>0.009110</td>\n",
              "      <td>0.07458</td>\n",
              "      <td>0.05661</td>\n",
              "      <td>0.01867</td>\n",
              "      <td>0.05963</td>\n",
              "      <td>0.009208</td>\n",
              "      <td>14.91</td>\n",
              "      <td>26.50</td>\n",
              "      <td>98.87</td>\n",
              "      <td>567.7</td>\n",
              "      <td>0.2098</td>\n",
              "      <td>0.8663</td>\n",
              "      <td>0.6869</td>\n",
              "      <td>0.2575</td>\n",
              "      <td>0.6638</td>\n",
              "      <td>0.17300</td>\n",
              "    </tr>\n",
              "    <tr>\n",
              "      <th>4</th>\n",
              "      <td>20.29</td>\n",
              "      <td>14.34</td>\n",
              "      <td>135.10</td>\n",
              "      <td>1297.0</td>\n",
              "      <td>0.10030</td>\n",
              "      <td>0.13280</td>\n",
              "      <td>0.1980</td>\n",
              "      <td>0.10430</td>\n",
              "      <td>0.1809</td>\n",
              "      <td>0.05883</td>\n",
              "      <td>0.7572</td>\n",
              "      <td>0.7813</td>\n",
              "      <td>5.438</td>\n",
              "      <td>94.44</td>\n",
              "      <td>0.011490</td>\n",
              "      <td>0.02461</td>\n",
              "      <td>0.05688</td>\n",
              "      <td>0.01885</td>\n",
              "      <td>0.01756</td>\n",
              "      <td>0.005115</td>\n",
              "      <td>22.54</td>\n",
              "      <td>16.67</td>\n",
              "      <td>152.20</td>\n",
              "      <td>1575.0</td>\n",
              "      <td>0.1374</td>\n",
              "      <td>0.2050</td>\n",
              "      <td>0.4000</td>\n",
              "      <td>0.1625</td>\n",
              "      <td>0.2364</td>\n",
              "      <td>0.07678</td>\n",
              "    </tr>\n",
              "  </tbody>\n",
              "</table>\n",
              "</div>"
            ],
            "text/plain": [
              "   radius_mean  texture_mean  ...  symmetry_worst  fractal_dimension_worst\n",
              "0        17.99         10.38  ...          0.4601                  0.11890\n",
              "1        20.57         17.77  ...          0.2750                  0.08902\n",
              "2        19.69         21.25  ...          0.3613                  0.08758\n",
              "3        11.42         20.38  ...          0.6638                  0.17300\n",
              "4        20.29         14.34  ...          0.2364                  0.07678\n",
              "\n",
              "[5 rows x 30 columns]"
            ]
          },
          "metadata": {
            "tags": []
          },
          "execution_count": 83
        }
      ]
    },
    {
      "cell_type": "markdown",
      "metadata": {
        "id": "EXVYXQye_I2q",
        "colab_type": "text"
      },
      "source": [
        "# Fit Model"
      ]
    },
    {
      "cell_type": "code",
      "metadata": {
        "id": "ZEdrm0EhDfhM",
        "colab_type": "code",
        "colab": {}
      },
      "source": [
        "from sklearn.tree import DecisionTreeClassifier, export_graphviz\n",
        "from sklearn.ensemble import BaggingClassifier"
      ],
      "execution_count": 0,
      "outputs": []
    },
    {
      "cell_type": "code",
      "metadata": {
        "id": "FXr13cKgD1_2",
        "colab_type": "code",
        "colab": {}
      },
      "source": [
        "from sklearn.model_selection import train_test_split"
      ],
      "execution_count": 0,
      "outputs": []
    },
    {
      "cell_type": "code",
      "metadata": {
        "id": "RQhBd5J3D36f",
        "colab_type": "code",
        "colab": {}
      },
      "source": [
        "X_train, X_test, y_train, y_test = train_test_split(breast_cancer_wisconsin, y, test_size=0.3)"
      ],
      "execution_count": 0,
      "outputs": []
    },
    {
      "cell_type": "code",
      "metadata": {
        "id": "FWeupO1-EPeD",
        "colab_type": "code",
        "colab": {}
      },
      "source": [
        "from sklearn.model_selection import cross_val_score, cross_val_predict\n",
        "from sklearn.metrics import accuracy_score, classification_report, confusion_matrix"
      ],
      "execution_count": 0,
      "outputs": []
    },
    {
      "cell_type": "code",
      "metadata": {
        "id": "_30R4EKtETHn",
        "colab_type": "code",
        "colab": {}
      },
      "source": [
        "def print_score(clf, X, y, cv=0):\n",
        "    \n",
        "    y_pred = clf.predict(X)\n",
        "    acc_score = accuracy_score(y, y_pred)\n",
        "    clf_report = classification_report(y, y_pred)\n",
        "    conf_matrix = confusion_matrix(y, y_pred)\n",
        "                 \n",
        "    print(f\"Results:\\n\")\n",
        "    print(f\"accuracy score: {acc_score:.4f}\\n\")\n",
        "    print(f\"Classification Report: \\n {clf_report}\\n\")\n",
        "    print(f\"Confusion Matrix: \\n {conf_matrix}\\n\")\n",
        "\n",
        "    if cv > 1:\n",
        "        res = cross_val_score(clf, X, y, cv=cv, scoring='accuracy')\n",
        "        print(f\"Average Accuracy: \\t {np.mean(res):.4f}\")\n",
        "        print(f\"Accuracy SD: \\t\\t {np.std(res):.4f}\")"
      ],
      "execution_count": 0,
      "outputs": []
    },
    {
      "cell_type": "markdown",
      "metadata": {
        "id": "eIe8RqeDEh9U",
        "colab_type": "text"
      },
      "source": [
        "# Decision Tree"
      ]
    },
    {
      "cell_type": "code",
      "metadata": {
        "id": "JpeH2gUyEoa1",
        "colab_type": "code",
        "colab": {}
      },
      "source": [
        "clf = DecisionTreeClassifier(random_state=42)"
      ],
      "execution_count": 0,
      "outputs": []
    },
    {
      "cell_type": "code",
      "metadata": {
        "id": "TRvFlwhEEuW-",
        "colab_type": "code",
        "colab": {
          "base_uri": "https://localhost:8080/",
          "height": 119
        },
        "outputId": "3bc2b16c-7835-4333-9288-b330bd93a604"
      },
      "source": [
        "clf.fit(X_train, y_train)"
      ],
      "execution_count": 90,
      "outputs": [
        {
          "output_type": "execute_result",
          "data": {
            "text/plain": [
              "DecisionTreeClassifier(class_weight=None, criterion='gini', max_depth=None,\n",
              "                       max_features=None, max_leaf_nodes=None,\n",
              "                       min_impurity_decrease=0.0, min_impurity_split=None,\n",
              "                       min_samples_leaf=1, min_samples_split=2,\n",
              "                       min_weight_fraction_leaf=0.0, presort=False,\n",
              "                       random_state=42, splitter='best')"
            ]
          },
          "metadata": {
            "tags": []
          },
          "execution_count": 90
        }
      ]
    },
    {
      "cell_type": "code",
      "metadata": {
        "id": "oLa5JUa8EyLX",
        "colab_type": "code",
        "colab": {
          "base_uri": "https://localhost:8080/",
          "height": 374
        },
        "outputId": "1d9c52f5-85d5-4101-b960-f39dc1b39065"
      },
      "source": [
        "print_score(clf, X_train, y_train, cv=10)"
      ],
      "execution_count": 91,
      "outputs": [
        {
          "output_type": "stream",
          "text": [
            "Results:\n",
            "\n",
            "accuracy score: 1.0000\n",
            "\n",
            "Classification Report: \n",
            "               precision    recall  f1-score   support\n",
            "\n",
            "           B       1.00      1.00      1.00       249\n",
            "           M       1.00      1.00      1.00       149\n",
            "\n",
            "    accuracy                           1.00       398\n",
            "   macro avg       1.00      1.00      1.00       398\n",
            "weighted avg       1.00      1.00      1.00       398\n",
            "\n",
            "\n",
            "Confusion Matrix: \n",
            " [[249   0]\n",
            " [  0 149]]\n",
            "\n",
            "Average Accuracy: \t 0.9016\n",
            "Accuracy SD: \t\t 0.0442\n"
          ],
          "name": "stdout"
        }
      ]
    },
    {
      "cell_type": "code",
      "metadata": {
        "id": "qck1QhilH2mp",
        "colab_type": "code",
        "colab": {
          "base_uri": "https://localhost:8080/",
          "height": 340
        },
        "outputId": "c92bfff6-6c67-4deb-c258-a42b770f0555"
      },
      "source": [
        "print_score(clf, X_test, y_test) # Test"
      ],
      "execution_count": 92,
      "outputs": [
        {
          "output_type": "stream",
          "text": [
            "Results:\n",
            "\n",
            "accuracy score: 0.9240\n",
            "\n",
            "Classification Report: \n",
            "               precision    recall  f1-score   support\n",
            "\n",
            "           B       0.96      0.92      0.94       108\n",
            "           M       0.87      0.94      0.90        63\n",
            "\n",
            "    accuracy                           0.92       171\n",
            "   macro avg       0.91      0.93      0.92       171\n",
            "weighted avg       0.93      0.92      0.92       171\n",
            "\n",
            "\n",
            "Confusion Matrix: \n",
            " [[99  9]\n",
            " [ 4 59]]\n",
            "\n"
          ],
          "name": "stdout"
        }
      ]
    },
    {
      "cell_type": "code",
      "metadata": {
        "id": "-e63oH-bIXPf",
        "colab_type": "code",
        "colab": {}
      },
      "source": [
        "from IPython.display import SVG\n",
        "from graphviz import Source\n",
        "from IPython.display import display"
      ],
      "execution_count": 0,
      "outputs": []
    },
    {
      "cell_type": "code",
      "metadata": {
        "id": "MYfpJNfcIl4m",
        "colab_type": "code",
        "colab": {
          "base_uri": "https://localhost:8080/",
          "height": 1000
        },
        "outputId": "049dd3cd-6e03-43e6-f939-26b8cc3b3218"
      },
      "source": [
        "graph = Source(export_graphviz(clf, out_file=None,  \n",
        "                filled=True, rounded=True,\n",
        "                special_characters=True,feature_names = labels,class_names=['0','1']))\n",
        "\n",
        "display(SVG(graph.pipe(format='svg')))"
      ],
      "execution_count": 101,
      "outputs": [
        {
          "output_type": "display_data",
          "data": {
            "text/plain": [
              "<IPython.core.display.SVG object>"
            ],
            "image/svg+xml": "<svg height=\"909pt\" viewBox=\"0.00 0.00 2143.00 909.00\" width=\"2143pt\" xmlns=\"http://www.w3.org/2000/svg\" xmlns:xlink=\"http://www.w3.org/1999/xlink\">\n<g class=\"graph\" id=\"graph0\" transform=\"scale(1 1) rotate(0) translate(4 905)\">\n<title>Tree</title>\n<polygon fill=\"#ffffff\" points=\"-4,4 -4,-905 2139,-905 2139,4 -4,4\" stroke=\"transparent\"/>\n<!-- 0 -->\n<g class=\"node\" id=\"node1\">\n<title>0</title>\n<path d=\"M1439,-901C1439,-901 1254,-901 1254,-901 1248,-901 1242,-895 1242,-889 1242,-889 1242,-830 1242,-830 1242,-824 1248,-818 1254,-818 1254,-818 1439,-818 1439,-818 1445,-818 1451,-824 1451,-830 1451,-830 1451,-889 1451,-889 1451,-895 1445,-901 1439,-901\" fill=\"#f5ccaf\" stroke=\"#000000\"/>\n<text fill=\"#000000\" font-family=\"Helvetica,sans-Serif\" font-size=\"14.00\" text-anchor=\"start\" x=\"1250\" y=\"-885.8\">concave points_worst ≤ 0.136</text>\n<text fill=\"#000000\" font-family=\"Helvetica,sans-Serif\" font-size=\"14.00\" text-anchor=\"start\" x=\"1308.5\" y=\"-870.8\">gini = 0.468</text>\n<text fill=\"#000000\" font-family=\"Helvetica,sans-Serif\" font-size=\"14.00\" text-anchor=\"start\" x=\"1298.5\" y=\"-855.8\">samples = 398</text>\n<text fill=\"#000000\" font-family=\"Helvetica,sans-Serif\" font-size=\"14.00\" text-anchor=\"start\" x=\"1288.5\" y=\"-840.8\">value = [249, 149]</text>\n<text fill=\"#000000\" font-family=\"Helvetica,sans-Serif\" font-size=\"14.00\" text-anchor=\"start\" x=\"1317.5\" y=\"-825.8\">class = 0</text>\n</g>\n<!-- 1 -->\n<g class=\"node\" id=\"node2\">\n<title>1</title>\n<path d=\"M1215.5,-782C1215.5,-782 1099.5,-782 1099.5,-782 1093.5,-782 1087.5,-776 1087.5,-770 1087.5,-770 1087.5,-711 1087.5,-711 1087.5,-705 1093.5,-699 1099.5,-699 1099.5,-699 1215.5,-699 1215.5,-699 1221.5,-699 1227.5,-705 1227.5,-711 1227.5,-711 1227.5,-770 1227.5,-770 1227.5,-776 1221.5,-782 1215.5,-782\" fill=\"#e78a47\" stroke=\"#000000\"/>\n<text fill=\"#000000\" font-family=\"Helvetica,sans-Serif\" font-size=\"14.00\" text-anchor=\"start\" x=\"1095.5\" y=\"-766.8\">area_worst ≤ 929.8</text>\n<text fill=\"#000000\" font-family=\"Helvetica,sans-Serif\" font-size=\"14.00\" text-anchor=\"start\" x=\"1119.5\" y=\"-751.8\">gini = 0.124</text>\n<text fill=\"#000000\" font-family=\"Helvetica,sans-Serif\" font-size=\"14.00\" text-anchor=\"start\" x=\"1109.5\" y=\"-736.8\">samples = 255</text>\n<text fill=\"#000000\" font-family=\"Helvetica,sans-Serif\" font-size=\"14.00\" text-anchor=\"start\" x=\"1103.5\" y=\"-721.8\">value = [238, 17]</text>\n<text fill=\"#000000\" font-family=\"Helvetica,sans-Serif\" font-size=\"14.00\" text-anchor=\"start\" x=\"1128.5\" y=\"-706.8\">class = 0</text>\n</g>\n<!-- 0&#45;&gt;1 -->\n<g class=\"edge\" id=\"edge1\">\n<title>0-&gt;1</title>\n<path d=\"M1280.397,-817.8796C1264.8587,-808.0962 1248.1912,-797.6019 1232.3013,-787.5971\" fill=\"none\" stroke=\"#000000\"/>\n<polygon fill=\"#000000\" points=\"1233.8929,-784.4633 1223.5657,-782.0969 1230.1632,-790.3869 1233.8929,-784.4633\" stroke=\"#000000\"/>\n<text fill=\"#000000\" font-family=\"Helvetica,sans-Serif\" font-size=\"14.00\" text-anchor=\"middle\" x=\"1229.1062\" y=\"-802.7752\">True</text>\n</g>\n<!-- 30 -->\n<g class=\"node\" id=\"node31\">\n<title>30</title>\n<path d=\"M1541.5,-782C1541.5,-782 1435.5,-782 1435.5,-782 1429.5,-782 1423.5,-776 1423.5,-770 1423.5,-770 1423.5,-711 1423.5,-711 1423.5,-705 1429.5,-699 1435.5,-699 1435.5,-699 1541.5,-699 1541.5,-699 1547.5,-699 1553.5,-705 1553.5,-711 1553.5,-711 1553.5,-770 1553.5,-770 1553.5,-776 1547.5,-782 1541.5,-782\" fill=\"#49a5e7\" stroke=\"#000000\"/>\n<text fill=\"#000000\" font-family=\"Helvetica,sans-Serif\" font-size=\"14.00\" text-anchor=\"start\" x=\"1431.5\" y=\"-766.8\">area_se ≤ 21.925</text>\n<text fill=\"#000000\" font-family=\"Helvetica,sans-Serif\" font-size=\"14.00\" text-anchor=\"start\" x=\"1450.5\" y=\"-751.8\">gini = 0.142</text>\n<text fill=\"#000000\" font-family=\"Helvetica,sans-Serif\" font-size=\"14.00\" text-anchor=\"start\" x=\"1440.5\" y=\"-736.8\">samples = 143</text>\n<text fill=\"#000000\" font-family=\"Helvetica,sans-Serif\" font-size=\"14.00\" text-anchor=\"start\" x=\"1434.5\" y=\"-721.8\">value = [11, 132]</text>\n<text fill=\"#000000\" font-family=\"Helvetica,sans-Serif\" font-size=\"14.00\" text-anchor=\"start\" x=\"1459.5\" y=\"-706.8\">class = 1</text>\n</g>\n<!-- 0&#45;&gt;30 -->\n<g class=\"edge\" id=\"edge30\">\n<title>0-&gt;30</title>\n<path d=\"M1396.1647,-817.8796C1407.3416,-808.513 1419.2962,-798.4948 1430.7712,-788.8784\" fill=\"none\" stroke=\"#000000\"/>\n<polygon fill=\"#000000\" points=\"1433.2069,-791.4037 1438.6233,-782.2981 1428.7107,-786.0386 1433.2069,-791.4037\" stroke=\"#000000\"/>\n<text fill=\"#000000\" font-family=\"Helvetica,sans-Serif\" font-size=\"14.00\" text-anchor=\"middle\" x=\"1436.4287\" y=\"-803.5016\">False</text>\n</g>\n<!-- 2 -->\n<g class=\"node\" id=\"node3\">\n<title>2</title>\n<path d=\"M862.5,-663C862.5,-663 756.5,-663 756.5,-663 750.5,-663 744.5,-657 744.5,-651 744.5,-651 744.5,-592 744.5,-592 744.5,-586 750.5,-580 756.5,-580 756.5,-580 862.5,-580 862.5,-580 868.5,-580 874.5,-586 874.5,-592 874.5,-592 874.5,-651 874.5,-651 874.5,-657 868.5,-663 862.5,-663\" fill=\"#e6843d\" stroke=\"#000000\"/>\n<text fill=\"#000000\" font-family=\"Helvetica,sans-Serif\" font-size=\"14.00\" text-anchor=\"start\" x=\"752.5\" y=\"-647.8\">area_se ≤ 38.605</text>\n<text fill=\"#000000\" font-family=\"Helvetica,sans-Serif\" font-size=\"14.00\" text-anchor=\"start\" x=\"771.5\" y=\"-632.8\">gini = 0.041</text>\n<text fill=\"#000000\" font-family=\"Helvetica,sans-Serif\" font-size=\"14.00\" text-anchor=\"start\" x=\"761.5\" y=\"-617.8\">samples = 239</text>\n<text fill=\"#000000\" font-family=\"Helvetica,sans-Serif\" font-size=\"14.00\" text-anchor=\"start\" x=\"759.5\" y=\"-602.8\">value = [234, 5]</text>\n<text fill=\"#000000\" font-family=\"Helvetica,sans-Serif\" font-size=\"14.00\" text-anchor=\"start\" x=\"780.5\" y=\"-587.8\">class = 0</text>\n</g>\n<!-- 1&#45;&gt;2 -->\n<g class=\"edge\" id=\"edge2\">\n<title>1-&gt;2</title>\n<path d=\"M1087.4956,-716.5617C1028.6475,-696.4384 944.7316,-667.743 884.5153,-647.1518\" fill=\"none\" stroke=\"#000000\"/>\n<polygon fill=\"#000000\" points=\"885.2819,-643.715 874.6873,-643.7911 883.0169,-650.3385 885.2819,-643.715\" stroke=\"#000000\"/>\n</g>\n<!-- 21 -->\n<g class=\"node\" id=\"node22\">\n<title>21</title>\n<path d=\"M1248.5,-663C1248.5,-663 1066.5,-663 1066.5,-663 1060.5,-663 1054.5,-657 1054.5,-651 1054.5,-651 1054.5,-592 1054.5,-592 1054.5,-586 1060.5,-580 1066.5,-580 1066.5,-580 1248.5,-580 1248.5,-580 1254.5,-580 1260.5,-586 1260.5,-592 1260.5,-592 1260.5,-651 1260.5,-651 1260.5,-657 1254.5,-663 1248.5,-663\" fill=\"#7bbeee\" stroke=\"#000000\"/>\n<text fill=\"#000000\" font-family=\"Helvetica,sans-Serif\" font-size=\"14.00\" text-anchor=\"start\" x=\"1062.5\" y=\"-647.8\">fractal_dimension_se ≤ 0.002</text>\n<text fill=\"#000000\" font-family=\"Helvetica,sans-Serif\" font-size=\"14.00\" text-anchor=\"start\" x=\"1119.5\" y=\"-632.8\">gini = 0.375</text>\n<text fill=\"#000000\" font-family=\"Helvetica,sans-Serif\" font-size=\"14.00\" text-anchor=\"start\" x=\"1113.5\" y=\"-617.8\">samples = 16</text>\n<text fill=\"#000000\" font-family=\"Helvetica,sans-Serif\" font-size=\"14.00\" text-anchor=\"start\" x=\"1112\" y=\"-602.8\">value = [4, 12]</text>\n<text fill=\"#000000\" font-family=\"Helvetica,sans-Serif\" font-size=\"14.00\" text-anchor=\"start\" x=\"1128.5\" y=\"-587.8\">class = 1</text>\n</g>\n<!-- 1&#45;&gt;21 -->\n<g class=\"edge\" id=\"edge21\">\n<title>1-&gt;21</title>\n<path d=\"M1157.5,-698.8796C1157.5,-690.6838 1157.5,-681.9891 1157.5,-673.5013\" fill=\"none\" stroke=\"#000000\"/>\n<polygon fill=\"#000000\" points=\"1161.0001,-673.298 1157.5,-663.2981 1154.0001,-673.2981 1161.0001,-673.298\" stroke=\"#000000\"/>\n</g>\n<!-- 3 -->\n<g class=\"node\" id=\"node4\">\n<title>3</title>\n<path d=\"M594.5,-544C594.5,-544 438.5,-544 438.5,-544 432.5,-544 426.5,-538 426.5,-532 426.5,-532 426.5,-473 426.5,-473 426.5,-467 432.5,-461 438.5,-461 438.5,-461 594.5,-461 594.5,-461 600.5,-461 606.5,-467 606.5,-473 606.5,-473 606.5,-532 606.5,-532 606.5,-538 600.5,-544 594.5,-544\" fill=\"#e5833c\" stroke=\"#000000\"/>\n<text fill=\"#000000\" font-family=\"Helvetica,sans-Serif\" font-size=\"14.00\" text-anchor=\"start\" x=\"434.5\" y=\"-528.8\">perimeter_worst ≤ 113.15</text>\n<text fill=\"#000000\" font-family=\"Helvetica,sans-Serif\" font-size=\"14.00\" text-anchor=\"start\" x=\"478.5\" y=\"-513.8\">gini = 0.026</text>\n<text fill=\"#000000\" font-family=\"Helvetica,sans-Serif\" font-size=\"14.00\" text-anchor=\"start\" x=\"468.5\" y=\"-498.8\">samples = 231</text>\n<text fill=\"#000000\" font-family=\"Helvetica,sans-Serif\" font-size=\"14.00\" text-anchor=\"start\" x=\"466.5\" y=\"-483.8\">value = [228, 3]</text>\n<text fill=\"#000000\" font-family=\"Helvetica,sans-Serif\" font-size=\"14.00\" text-anchor=\"start\" x=\"487.5\" y=\"-468.8\">class = 0</text>\n</g>\n<!-- 2&#45;&gt;3 -->\n<g class=\"edge\" id=\"edge3\">\n<title>2-&gt;3</title>\n<path d=\"M744.4738,-595.09C706.7779,-579.7801 658.5295,-560.1843 616.1341,-542.9657\" fill=\"none\" stroke=\"#000000\"/>\n<polygon fill=\"#000000\" points=\"617.2045,-539.6229 606.6225,-539.1026 614.5704,-546.1084 617.2045,-539.6229\" stroke=\"#000000\"/>\n</g>\n<!-- 16 -->\n<g class=\"node\" id=\"node17\">\n<title>16</title>\n<path d=\"M900.5,-544C900.5,-544 718.5,-544 718.5,-544 712.5,-544 706.5,-538 706.5,-532 706.5,-532 706.5,-473 706.5,-473 706.5,-467 712.5,-461 718.5,-461 718.5,-461 900.5,-461 900.5,-461 906.5,-461 912.5,-467 912.5,-473 912.5,-473 912.5,-532 912.5,-532 912.5,-538 906.5,-544 900.5,-544\" fill=\"#eeab7b\" stroke=\"#000000\"/>\n<text fill=\"#000000\" font-family=\"Helvetica,sans-Serif\" font-size=\"14.00\" text-anchor=\"start\" x=\"714.5\" y=\"-528.8\">fractal_dimension_se ≤ 0.004</text>\n<text fill=\"#000000\" font-family=\"Helvetica,sans-Serif\" font-size=\"14.00\" text-anchor=\"start\" x=\"771.5\" y=\"-513.8\">gini = 0.375</text>\n<text fill=\"#000000\" font-family=\"Helvetica,sans-Serif\" font-size=\"14.00\" text-anchor=\"start\" x=\"770\" y=\"-498.8\">samples = 8</text>\n<text fill=\"#000000\" font-family=\"Helvetica,sans-Serif\" font-size=\"14.00\" text-anchor=\"start\" x=\"768\" y=\"-483.8\">value = [6, 2]</text>\n<text fill=\"#000000\" font-family=\"Helvetica,sans-Serif\" font-size=\"14.00\" text-anchor=\"start\" x=\"780.5\" y=\"-468.8\">class = 0</text>\n</g>\n<!-- 2&#45;&gt;16 -->\n<g class=\"edge\" id=\"edge16\">\n<title>2-&gt;16</title>\n<path d=\"M809.5,-579.8796C809.5,-571.6838 809.5,-562.9891 809.5,-554.5013\" fill=\"none\" stroke=\"#000000\"/>\n<polygon fill=\"#000000\" points=\"813.0001,-554.298 809.5,-544.2981 806.0001,-554.2981 813.0001,-554.298\" stroke=\"#000000\"/>\n</g>\n<!-- 4 -->\n<g class=\"node\" id=\"node5\">\n<title>4</title>\n<path d=\"M405.5,-425C405.5,-425 257.5,-425 257.5,-425 251.5,-425 245.5,-419 245.5,-413 245.5,-413 245.5,-354 245.5,-354 245.5,-348 251.5,-342 257.5,-342 257.5,-342 405.5,-342 405.5,-342 411.5,-342 417.5,-348 417.5,-354 417.5,-354 417.5,-413 417.5,-413 417.5,-419 411.5,-425 405.5,-425\" fill=\"#e5823b\" stroke=\"#000000\"/>\n<text fill=\"#000000\" font-family=\"Helvetica,sans-Serif\" font-size=\"14.00\" text-anchor=\"start\" x=\"253.5\" y=\"-409.8\">smoothness_se ≤ 0.003</text>\n<text fill=\"#000000\" font-family=\"Helvetica,sans-Serif\" font-size=\"14.00\" text-anchor=\"start\" x=\"293.5\" y=\"-394.8\">gini = 0.017</text>\n<text fill=\"#000000\" font-family=\"Helvetica,sans-Serif\" font-size=\"14.00\" text-anchor=\"start\" x=\"283.5\" y=\"-379.8\">samples = 229</text>\n<text fill=\"#000000\" font-family=\"Helvetica,sans-Serif\" font-size=\"14.00\" text-anchor=\"start\" x=\"281.5\" y=\"-364.8\">value = [227, 2]</text>\n<text fill=\"#000000\" font-family=\"Helvetica,sans-Serif\" font-size=\"14.00\" text-anchor=\"start\" x=\"302.5\" y=\"-349.8\">class = 0</text>\n</g>\n<!-- 3&#45;&gt;4 -->\n<g class=\"edge\" id=\"edge4\">\n<title>3-&gt;4</title>\n<path d=\"M451.796,-460.8796C436.5865,-451.0962 420.2718,-440.6019 404.7182,-430.5971\" fill=\"none\" stroke=\"#000000\"/>\n<polygon fill=\"#000000\" points=\"406.4713,-427.5632 396.1675,-425.0969 402.6843,-433.4505 406.4713,-427.5632\" stroke=\"#000000\"/>\n</g>\n<!-- 13 -->\n<g class=\"node\" id=\"node14\">\n<title>13</title>\n<path d=\"M585,-425C585,-425 448,-425 448,-425 442,-425 436,-419 436,-413 436,-413 436,-354 436,-354 436,-348 442,-342 448,-342 448,-342 585,-342 585,-342 591,-342 597,-348 597,-354 597,-354 597,-413 597,-413 597,-419 591,-425 585,-425\" fill=\"#ffffff\" stroke=\"#000000\"/>\n<text fill=\"#000000\" font-family=\"Helvetica,sans-Serif\" font-size=\"14.00\" text-anchor=\"start\" x=\"444\" y=\"-409.8\">radius_mean ≤ 13.425</text>\n<text fill=\"#000000\" font-family=\"Helvetica,sans-Serif\" font-size=\"14.00\" text-anchor=\"start\" x=\"487\" y=\"-394.8\">gini = 0.5</text>\n<text fill=\"#000000\" font-family=\"Helvetica,sans-Serif\" font-size=\"14.00\" text-anchor=\"start\" x=\"477\" y=\"-379.8\">samples = 2</text>\n<text fill=\"#000000\" font-family=\"Helvetica,sans-Serif\" font-size=\"14.00\" text-anchor=\"start\" x=\"475\" y=\"-364.8\">value = [1, 1]</text>\n<text fill=\"#000000\" font-family=\"Helvetica,sans-Serif\" font-size=\"14.00\" text-anchor=\"start\" x=\"487.5\" y=\"-349.8\">class = 0</text>\n</g>\n<!-- 3&#45;&gt;13 -->\n<g class=\"edge\" id=\"edge13\">\n<title>3-&gt;13</title>\n<path d=\"M516.5,-460.8796C516.5,-452.6838 516.5,-443.9891 516.5,-435.5013\" fill=\"none\" stroke=\"#000000\"/>\n<polygon fill=\"#000000\" points=\"520.0001,-435.298 516.5,-425.2981 513.0001,-435.2981 520.0001,-435.298\" stroke=\"#000000\"/>\n</g>\n<!-- 5 -->\n<g class=\"node\" id=\"node6\">\n<title>5</title>\n<path d=\"M223.5,-306C223.5,-306 83.5,-306 83.5,-306 77.5,-306 71.5,-300 71.5,-294 71.5,-294 71.5,-235 71.5,-235 71.5,-229 77.5,-223 83.5,-223 83.5,-223 223.5,-223 223.5,-223 229.5,-223 235.5,-229 235.5,-235 235.5,-235 235.5,-294 235.5,-294 235.5,-300 229.5,-306 223.5,-306\" fill=\"#eca06a\" stroke=\"#000000\"/>\n<text fill=\"#000000\" font-family=\"Helvetica,sans-Serif\" font-size=\"14.00\" text-anchor=\"start\" x=\"79.5\" y=\"-290.8\">texture_worst ≤ 27.755</text>\n<text fill=\"#000000\" font-family=\"Helvetica,sans-Serif\" font-size=\"14.00\" text-anchor=\"start\" x=\"120\" y=\"-275.8\">gini = 0.32</text>\n<text fill=\"#000000\" font-family=\"Helvetica,sans-Serif\" font-size=\"14.00\" text-anchor=\"start\" x=\"114\" y=\"-260.8\">samples = 5</text>\n<text fill=\"#000000\" font-family=\"Helvetica,sans-Serif\" font-size=\"14.00\" text-anchor=\"start\" x=\"112\" y=\"-245.8\">value = [4, 1]</text>\n<text fill=\"#000000\" font-family=\"Helvetica,sans-Serif\" font-size=\"14.00\" text-anchor=\"start\" x=\"124.5\" y=\"-230.8\">class = 0</text>\n</g>\n<!-- 4&#45;&gt;5 -->\n<g class=\"edge\" id=\"edge5\">\n<title>4-&gt;5</title>\n<path d=\"M269.2442,-341.8796C254.7458,-332.1868 239.2035,-321.7961 224.3637,-311.8752\" fill=\"none\" stroke=\"#000000\"/>\n<polygon fill=\"#000000\" points=\"225.9792,-308.7451 215.7206,-306.0969 222.0887,-314.5644 225.9792,-308.7451\" stroke=\"#000000\"/>\n</g>\n<!-- 8 -->\n<g class=\"node\" id=\"node9\">\n<title>8</title>\n<path d=\"M397,-306C397,-306 266,-306 266,-306 260,-306 254,-300 254,-294 254,-294 254,-235 254,-235 254,-229 260,-223 266,-223 266,-223 397,-223 397,-223 403,-223 409,-229 409,-235 409,-235 409,-294 409,-294 409,-300 403,-306 397,-306\" fill=\"#e5823a\" stroke=\"#000000\"/>\n<text fill=\"#000000\" font-family=\"Helvetica,sans-Serif\" font-size=\"14.00\" text-anchor=\"start\" x=\"262\" y=\"-290.8\">texture_worst ≤ 32.83</text>\n<text fill=\"#000000\" font-family=\"Helvetica,sans-Serif\" font-size=\"14.00\" text-anchor=\"start\" x=\"293.5\" y=\"-275.8\">gini = 0.009</text>\n<text fill=\"#000000\" font-family=\"Helvetica,sans-Serif\" font-size=\"14.00\" text-anchor=\"start\" x=\"283.5\" y=\"-260.8\">samples = 224</text>\n<text fill=\"#000000\" font-family=\"Helvetica,sans-Serif\" font-size=\"14.00\" text-anchor=\"start\" x=\"281.5\" y=\"-245.8\">value = [223, 1]</text>\n<text fill=\"#000000\" font-family=\"Helvetica,sans-Serif\" font-size=\"14.00\" text-anchor=\"start\" x=\"302.5\" y=\"-230.8\">class = 0</text>\n</g>\n<!-- 4&#45;&gt;8 -->\n<g class=\"edge\" id=\"edge8\">\n<title>4-&gt;8</title>\n<path d=\"M331.5,-341.8796C331.5,-333.6838 331.5,-324.9891 331.5,-316.5013\" fill=\"none\" stroke=\"#000000\"/>\n<polygon fill=\"#000000\" points=\"335.0001,-316.298 331.5,-306.2981 328.0001,-316.2981 335.0001,-316.298\" stroke=\"#000000\"/>\n</g>\n<!-- 6 -->\n<g class=\"node\" id=\"node7\">\n<title>6</title>\n<path d=\"M87,-179.5C87,-179.5 12,-179.5 12,-179.5 6,-179.5 0,-173.5 0,-167.5 0,-167.5 0,-123.5 0,-123.5 0,-117.5 6,-111.5 12,-111.5 12,-111.5 87,-111.5 87,-111.5 93,-111.5 99,-117.5 99,-123.5 99,-123.5 99,-167.5 99,-167.5 99,-173.5 93,-179.5 87,-179.5\" fill=\"#e58139\" stroke=\"#000000\"/>\n<text fill=\"#000000\" font-family=\"Helvetica,sans-Serif\" font-size=\"14.00\" text-anchor=\"start\" x=\"20\" y=\"-164.3\">gini = 0.0</text>\n<text fill=\"#000000\" font-family=\"Helvetica,sans-Serif\" font-size=\"14.00\" text-anchor=\"start\" x=\"10\" y=\"-149.3\">samples = 4</text>\n<text fill=\"#000000\" font-family=\"Helvetica,sans-Serif\" font-size=\"14.00\" text-anchor=\"start\" x=\"8\" y=\"-134.3\">value = [4, 0]</text>\n<text fill=\"#000000\" font-family=\"Helvetica,sans-Serif\" font-size=\"14.00\" text-anchor=\"start\" x=\"20.5\" y=\"-119.3\">class = 0</text>\n</g>\n<!-- 5&#45;&gt;6 -->\n<g class=\"edge\" id=\"edge6\">\n<title>5-&gt;6</title>\n<path d=\"M117.1258,-222.8796C107.1314,-211.4436 96.288,-199.0363 86.2714,-187.575\" fill=\"none\" stroke=\"#000000\"/>\n<polygon fill=\"#000000\" points=\"88.7055,-185.0414 79.4895,-179.8149 83.4347,-189.6479 88.7055,-185.0414\" stroke=\"#000000\"/>\n</g>\n<!-- 7 -->\n<g class=\"node\" id=\"node8\">\n<title>7</title>\n<path d=\"M204,-179.5C204,-179.5 129,-179.5 129,-179.5 123,-179.5 117,-173.5 117,-167.5 117,-167.5 117,-123.5 117,-123.5 117,-117.5 123,-111.5 129,-111.5 129,-111.5 204,-111.5 204,-111.5 210,-111.5 216,-117.5 216,-123.5 216,-123.5 216,-167.5 216,-167.5 216,-173.5 210,-179.5 204,-179.5\" fill=\"#399de5\" stroke=\"#000000\"/>\n<text fill=\"#000000\" font-family=\"Helvetica,sans-Serif\" font-size=\"14.00\" text-anchor=\"start\" x=\"137\" y=\"-164.3\">gini = 0.0</text>\n<text fill=\"#000000\" font-family=\"Helvetica,sans-Serif\" font-size=\"14.00\" text-anchor=\"start\" x=\"127\" y=\"-149.3\">samples = 1</text>\n<text fill=\"#000000\" font-family=\"Helvetica,sans-Serif\" font-size=\"14.00\" text-anchor=\"start\" x=\"125\" y=\"-134.3\">value = [0, 1]</text>\n<text fill=\"#000000\" font-family=\"Helvetica,sans-Serif\" font-size=\"14.00\" text-anchor=\"start\" x=\"137.5\" y=\"-119.3\">class = 1</text>\n</g>\n<!-- 5&#45;&gt;7 -->\n<g class=\"edge\" id=\"edge7\">\n<title>5-&gt;7</title>\n<path d=\"M158.0468,-222.8796C159.212,-212.2134 160.4695,-200.7021 161.6494,-189.9015\" fill=\"none\" stroke=\"#000000\"/>\n<polygon fill=\"#000000\" points=\"165.1445,-190.1359 162.7513,-179.8149 158.1859,-189.3757 165.1445,-190.1359\" stroke=\"#000000\"/>\n</g>\n<!-- 9 -->\n<g class=\"node\" id=\"node10\">\n<title>9</title>\n<path d=\"M364.5,-179.5C364.5,-179.5 272.5,-179.5 272.5,-179.5 266.5,-179.5 260.5,-173.5 260.5,-167.5 260.5,-167.5 260.5,-123.5 260.5,-123.5 260.5,-117.5 266.5,-111.5 272.5,-111.5 272.5,-111.5 364.5,-111.5 364.5,-111.5 370.5,-111.5 376.5,-117.5 376.5,-123.5 376.5,-123.5 376.5,-167.5 376.5,-167.5 376.5,-173.5 370.5,-179.5 364.5,-179.5\" fill=\"#e58139\" stroke=\"#000000\"/>\n<text fill=\"#000000\" font-family=\"Helvetica,sans-Serif\" font-size=\"14.00\" text-anchor=\"start\" x=\"289\" y=\"-164.3\">gini = 0.0</text>\n<text fill=\"#000000\" font-family=\"Helvetica,sans-Serif\" font-size=\"14.00\" text-anchor=\"start\" x=\"270.5\" y=\"-149.3\">samples = 209</text>\n<text fill=\"#000000\" font-family=\"Helvetica,sans-Serif\" font-size=\"14.00\" text-anchor=\"start\" x=\"268.5\" y=\"-134.3\">value = [209, 0]</text>\n<text fill=\"#000000\" font-family=\"Helvetica,sans-Serif\" font-size=\"14.00\" text-anchor=\"start\" x=\"289.5\" y=\"-119.3\">class = 0</text>\n</g>\n<!-- 8&#45;&gt;9 -->\n<g class=\"edge\" id=\"edge9\">\n<title>8-&gt;9</title>\n<path d=\"M326.9532,-222.8796C325.788,-212.2134 324.5305,-200.7021 323.3506,-189.9015\" fill=\"none\" stroke=\"#000000\"/>\n<polygon fill=\"#000000\" points=\"326.8141,-189.3757 322.2487,-179.8149 319.8555,-190.1359 326.8141,-189.3757\" stroke=\"#000000\"/>\n</g>\n<!-- 10 -->\n<g class=\"node\" id=\"node11\">\n<title>10</title>\n<path d=\"M532,-187C532,-187 407,-187 407,-187 401,-187 395,-181 395,-175 395,-175 395,-116 395,-116 395,-110 401,-104 407,-104 407,-104 532,-104 532,-104 538,-104 544,-110 544,-116 544,-116 544,-175 544,-175 544,-181 538,-187 532,-187\" fill=\"#e78a47\" stroke=\"#000000\"/>\n<text fill=\"#000000\" font-family=\"Helvetica,sans-Serif\" font-size=\"14.00\" text-anchor=\"start\" x=\"403\" y=\"-171.8\">texture_mean ≤ 23.2</text>\n<text fill=\"#000000\" font-family=\"Helvetica,sans-Serif\" font-size=\"14.00\" text-anchor=\"start\" x=\"431.5\" y=\"-156.8\">gini = 0.124</text>\n<text fill=\"#000000\" font-family=\"Helvetica,sans-Serif\" font-size=\"14.00\" text-anchor=\"start\" x=\"425.5\" y=\"-141.8\">samples = 15</text>\n<text fill=\"#000000\" font-family=\"Helvetica,sans-Serif\" font-size=\"14.00\" text-anchor=\"start\" x=\"424\" y=\"-126.8\">value = [14, 1]</text>\n<text fill=\"#000000\" font-family=\"Helvetica,sans-Serif\" font-size=\"14.00\" text-anchor=\"start\" x=\"440.5\" y=\"-111.8\">class = 0</text>\n</g>\n<!-- 8&#45;&gt;10 -->\n<g class=\"edge\" id=\"edge10\">\n<title>8-&gt;10</title>\n<path d=\"M379.7657,-222.8796C390.6278,-213.513 402.2456,-203.4948 413.3973,-193.8784\" fill=\"none\" stroke=\"#000000\"/>\n<polygon fill=\"#000000\" points=\"415.7408,-196.4792 421.0283,-187.2981 411.1694,-191.178 415.7408,-196.4792\" stroke=\"#000000\"/>\n</g>\n<!-- 11 -->\n<g class=\"node\" id=\"node12\">\n<title>11</title>\n<path d=\"M446,-68C446,-68 371,-68 371,-68 365,-68 359,-62 359,-56 359,-56 359,-12 359,-12 359,-6 365,0 371,0 371,0 446,0 446,0 452,0 458,-6 458,-12 458,-12 458,-56 458,-56 458,-62 452,-68 446,-68\" fill=\"#399de5\" stroke=\"#000000\"/>\n<text fill=\"#000000\" font-family=\"Helvetica,sans-Serif\" font-size=\"14.00\" text-anchor=\"start\" x=\"379\" y=\"-52.8\">gini = 0.0</text>\n<text fill=\"#000000\" font-family=\"Helvetica,sans-Serif\" font-size=\"14.00\" text-anchor=\"start\" x=\"369\" y=\"-37.8\">samples = 1</text>\n<text fill=\"#000000\" font-family=\"Helvetica,sans-Serif\" font-size=\"14.00\" text-anchor=\"start\" x=\"367\" y=\"-22.8\">value = [0, 1]</text>\n<text fill=\"#000000\" font-family=\"Helvetica,sans-Serif\" font-size=\"14.00\" text-anchor=\"start\" x=\"379.5\" y=\"-7.8\">class = 1</text>\n</g>\n<!-- 10&#45;&gt;11 -->\n<g class=\"edge\" id=\"edge11\">\n<title>10-&gt;11</title>\n<path d=\"M446.7859,-103.9815C442.0092,-95.2504 436.9595,-86.0202 432.1494,-77.2281\" fill=\"none\" stroke=\"#000000\"/>\n<polygon fill=\"#000000\" points=\"435.1153,-75.3568 427.2451,-68.2637 428.9742,-78.7165 435.1153,-75.3568\" stroke=\"#000000\"/>\n</g>\n<!-- 12 -->\n<g class=\"node\" id=\"node13\">\n<title>12</title>\n<path d=\"M571,-68C571,-68 488,-68 488,-68 482,-68 476,-62 476,-56 476,-56 476,-12 476,-12 476,-6 482,0 488,0 488,0 571,0 571,0 577,0 583,-6 583,-12 583,-12 583,-56 583,-56 583,-62 577,-68 571,-68\" fill=\"#e58139\" stroke=\"#000000\"/>\n<text fill=\"#000000\" font-family=\"Helvetica,sans-Serif\" font-size=\"14.00\" text-anchor=\"start\" x=\"500\" y=\"-52.8\">gini = 0.0</text>\n<text fill=\"#000000\" font-family=\"Helvetica,sans-Serif\" font-size=\"14.00\" text-anchor=\"start\" x=\"485.5\" y=\"-37.8\">samples = 14</text>\n<text fill=\"#000000\" font-family=\"Helvetica,sans-Serif\" font-size=\"14.00\" text-anchor=\"start\" x=\"484\" y=\"-22.8\">value = [14, 0]</text>\n<text fill=\"#000000\" font-family=\"Helvetica,sans-Serif\" font-size=\"14.00\" text-anchor=\"start\" x=\"500.5\" y=\"-7.8\">class = 0</text>\n</g>\n<!-- 10&#45;&gt;12 -->\n<g class=\"edge\" id=\"edge12\">\n<title>10-&gt;12</title>\n<path d=\"M491.8418,-103.9815C496.5402,-95.2504 501.5071,-86.0202 506.2383,-77.2281\" fill=\"none\" stroke=\"#000000\"/>\n<polygon fill=\"#000000\" points=\"509.4056,-78.7282 511.0621,-68.2637 503.2414,-75.4111 509.4056,-78.7282\" stroke=\"#000000\"/>\n</g>\n<!-- 14 -->\n<g class=\"node\" id=\"node15\">\n<title>14</title>\n<path d=\"M514,-298.5C514,-298.5 439,-298.5 439,-298.5 433,-298.5 427,-292.5 427,-286.5 427,-286.5 427,-242.5 427,-242.5 427,-236.5 433,-230.5 439,-230.5 439,-230.5 514,-230.5 514,-230.5 520,-230.5 526,-236.5 526,-242.5 526,-242.5 526,-286.5 526,-286.5 526,-292.5 520,-298.5 514,-298.5\" fill=\"#e58139\" stroke=\"#000000\"/>\n<text fill=\"#000000\" font-family=\"Helvetica,sans-Serif\" font-size=\"14.00\" text-anchor=\"start\" x=\"447\" y=\"-283.3\">gini = 0.0</text>\n<text fill=\"#000000\" font-family=\"Helvetica,sans-Serif\" font-size=\"14.00\" text-anchor=\"start\" x=\"437\" y=\"-268.3\">samples = 1</text>\n<text fill=\"#000000\" font-family=\"Helvetica,sans-Serif\" font-size=\"14.00\" text-anchor=\"start\" x=\"435\" y=\"-253.3\">value = [1, 0]</text>\n<text fill=\"#000000\" font-family=\"Helvetica,sans-Serif\" font-size=\"14.00\" text-anchor=\"start\" x=\"447.5\" y=\"-238.3\">class = 0</text>\n</g>\n<!-- 13&#45;&gt;14 -->\n<g class=\"edge\" id=\"edge14\">\n<title>13-&gt;14</title>\n<path d=\"M502.5099,-341.8796C498.8877,-331.1034 494.9755,-319.4647 491.3127,-308.5677\" fill=\"none\" stroke=\"#000000\"/>\n<polygon fill=\"#000000\" points=\"494.5383,-307.1786 488.0344,-298.8149 487.9031,-309.409 494.5383,-307.1786\" stroke=\"#000000\"/>\n</g>\n<!-- 15 -->\n<g class=\"node\" id=\"node16\">\n<title>15</title>\n<path d=\"M631,-298.5C631,-298.5 556,-298.5 556,-298.5 550,-298.5 544,-292.5 544,-286.5 544,-286.5 544,-242.5 544,-242.5 544,-236.5 550,-230.5 556,-230.5 556,-230.5 631,-230.5 631,-230.5 637,-230.5 643,-236.5 643,-242.5 643,-242.5 643,-286.5 643,-286.5 643,-292.5 637,-298.5 631,-298.5\" fill=\"#399de5\" stroke=\"#000000\"/>\n<text fill=\"#000000\" font-family=\"Helvetica,sans-Serif\" font-size=\"14.00\" text-anchor=\"start\" x=\"564\" y=\"-283.3\">gini = 0.0</text>\n<text fill=\"#000000\" font-family=\"Helvetica,sans-Serif\" font-size=\"14.00\" text-anchor=\"start\" x=\"554\" y=\"-268.3\">samples = 1</text>\n<text fill=\"#000000\" font-family=\"Helvetica,sans-Serif\" font-size=\"14.00\" text-anchor=\"start\" x=\"552\" y=\"-253.3\">value = [0, 1]</text>\n<text fill=\"#000000\" font-family=\"Helvetica,sans-Serif\" font-size=\"14.00\" text-anchor=\"start\" x=\"564.5\" y=\"-238.3\">class = 1</text>\n</g>\n<!-- 13&#45;&gt;15 -->\n<g class=\"edge\" id=\"edge15\">\n<title>13-&gt;15</title>\n<path d=\"M543.4309,-341.8796C550.6883,-330.6636 558.5503,-318.5131 565.8465,-307.2372\" fill=\"none\" stroke=\"#000000\"/>\n<polygon fill=\"#000000\" points=\"568.8022,-309.112 571.2962,-298.8149 562.9252,-305.3093 568.8022,-309.112\" stroke=\"#000000\"/>\n</g>\n<!-- 17 -->\n<g class=\"node\" id=\"node18\">\n<title>17</title>\n<path d=\"M794,-425C794,-425 627,-425 627,-425 621,-425 615,-419 615,-413 615,-413 615,-354 615,-354 615,-348 621,-342 627,-342 627,-342 794,-342 794,-342 800,-342 806,-348 806,-354 806,-354 806,-413 806,-413 806,-419 800,-425 794,-425\" fill=\"#9ccef2\" stroke=\"#000000\"/>\n<text fill=\"#000000\" font-family=\"Helvetica,sans-Serif\" font-size=\"14.00\" text-anchor=\"start\" x=\"623\" y=\"-409.8\">concave points_se ≤ 0.018</text>\n<text fill=\"#000000\" font-family=\"Helvetica,sans-Serif\" font-size=\"14.00\" text-anchor=\"start\" x=\"672.5\" y=\"-394.8\">gini = 0.444</text>\n<text fill=\"#000000\" font-family=\"Helvetica,sans-Serif\" font-size=\"14.00\" text-anchor=\"start\" x=\"671\" y=\"-379.8\">samples = 3</text>\n<text fill=\"#000000\" font-family=\"Helvetica,sans-Serif\" font-size=\"14.00\" text-anchor=\"start\" x=\"669\" y=\"-364.8\">value = [1, 2]</text>\n<text fill=\"#000000\" font-family=\"Helvetica,sans-Serif\" font-size=\"14.00\" text-anchor=\"start\" x=\"681.5\" y=\"-349.8\">class = 1</text>\n</g>\n<!-- 16&#45;&gt;17 -->\n<g class=\"edge\" id=\"edge17\">\n<title>16-&gt;17</title>\n<path d=\"M774.8746,-460.8796C767.382,-451.8733 759.3881,-442.2644 751.6721,-432.9897\" fill=\"none\" stroke=\"#000000\"/>\n<polygon fill=\"#000000\" points=\"754.3593,-430.7472 745.2732,-425.2981 748.9781,-435.224 754.3593,-430.7472\" stroke=\"#000000\"/>\n</g>\n<!-- 20 -->\n<g class=\"node\" id=\"node21\">\n<title>20</title>\n<path d=\"M911,-417.5C911,-417.5 836,-417.5 836,-417.5 830,-417.5 824,-411.5 824,-405.5 824,-405.5 824,-361.5 824,-361.5 824,-355.5 830,-349.5 836,-349.5 836,-349.5 911,-349.5 911,-349.5 917,-349.5 923,-355.5 923,-361.5 923,-361.5 923,-405.5 923,-405.5 923,-411.5 917,-417.5 911,-417.5\" fill=\"#e58139\" stroke=\"#000000\"/>\n<text fill=\"#000000\" font-family=\"Helvetica,sans-Serif\" font-size=\"14.00\" text-anchor=\"start\" x=\"844\" y=\"-402.3\">gini = 0.0</text>\n<text fill=\"#000000\" font-family=\"Helvetica,sans-Serif\" font-size=\"14.00\" text-anchor=\"start\" x=\"834\" y=\"-387.3\">samples = 5</text>\n<text fill=\"#000000\" font-family=\"Helvetica,sans-Serif\" font-size=\"14.00\" text-anchor=\"start\" x=\"832\" y=\"-372.3\">value = [5, 0]</text>\n<text fill=\"#000000\" font-family=\"Helvetica,sans-Serif\" font-size=\"14.00\" text-anchor=\"start\" x=\"844.5\" y=\"-357.3\">class = 0</text>\n</g>\n<!-- 16&#45;&gt;20 -->\n<g class=\"edge\" id=\"edge20\">\n<title>16-&gt;20</title>\n<path d=\"M831.8841,-460.8796C837.798,-449.8835 844.1949,-437.9893 850.158,-426.9015\" fill=\"none\" stroke=\"#000000\"/>\n<polygon fill=\"#000000\" points=\"853.3908,-428.2799 855.0449,-417.8149 847.2258,-424.9642 853.3908,-428.2799\" stroke=\"#000000\"/>\n</g>\n<!-- 18 -->\n<g class=\"node\" id=\"node19\">\n<title>18</title>\n<path d=\"M748,-298.5C748,-298.5 673,-298.5 673,-298.5 667,-298.5 661,-292.5 661,-286.5 661,-286.5 661,-242.5 661,-242.5 661,-236.5 667,-230.5 673,-230.5 673,-230.5 748,-230.5 748,-230.5 754,-230.5 760,-236.5 760,-242.5 760,-242.5 760,-286.5 760,-286.5 760,-292.5 754,-298.5 748,-298.5\" fill=\"#399de5\" stroke=\"#000000\"/>\n<text fill=\"#000000\" font-family=\"Helvetica,sans-Serif\" font-size=\"14.00\" text-anchor=\"start\" x=\"681\" y=\"-283.3\">gini = 0.0</text>\n<text fill=\"#000000\" font-family=\"Helvetica,sans-Serif\" font-size=\"14.00\" text-anchor=\"start\" x=\"671\" y=\"-268.3\">samples = 2</text>\n<text fill=\"#000000\" font-family=\"Helvetica,sans-Serif\" font-size=\"14.00\" text-anchor=\"start\" x=\"669\" y=\"-253.3\">value = [0, 2]</text>\n<text fill=\"#000000\" font-family=\"Helvetica,sans-Serif\" font-size=\"14.00\" text-anchor=\"start\" x=\"681.5\" y=\"-238.3\">class = 1</text>\n</g>\n<!-- 17&#45;&gt;18 -->\n<g class=\"edge\" id=\"edge18\">\n<title>17-&gt;18</title>\n<path d=\"M710.5,-341.8796C710.5,-331.2134 710.5,-319.7021 710.5,-308.9015\" fill=\"none\" stroke=\"#000000\"/>\n<polygon fill=\"#000000\" points=\"714.0001,-308.8149 710.5,-298.8149 707.0001,-308.815 714.0001,-308.8149\" stroke=\"#000000\"/>\n</g>\n<!-- 19 -->\n<g class=\"node\" id=\"node20\">\n<title>19</title>\n<path d=\"M865,-298.5C865,-298.5 790,-298.5 790,-298.5 784,-298.5 778,-292.5 778,-286.5 778,-286.5 778,-242.5 778,-242.5 778,-236.5 784,-230.5 790,-230.5 790,-230.5 865,-230.5 865,-230.5 871,-230.5 877,-236.5 877,-242.5 877,-242.5 877,-286.5 877,-286.5 877,-292.5 871,-298.5 865,-298.5\" fill=\"#e58139\" stroke=\"#000000\"/>\n<text fill=\"#000000\" font-family=\"Helvetica,sans-Serif\" font-size=\"14.00\" text-anchor=\"start\" x=\"798\" y=\"-283.3\">gini = 0.0</text>\n<text fill=\"#000000\" font-family=\"Helvetica,sans-Serif\" font-size=\"14.00\" text-anchor=\"start\" x=\"788\" y=\"-268.3\">samples = 1</text>\n<text fill=\"#000000\" font-family=\"Helvetica,sans-Serif\" font-size=\"14.00\" text-anchor=\"start\" x=\"786\" y=\"-253.3\">value = [1, 0]</text>\n<text fill=\"#000000\" font-family=\"Helvetica,sans-Serif\" font-size=\"14.00\" text-anchor=\"start\" x=\"798.5\" y=\"-238.3\">class = 0</text>\n</g>\n<!-- 17&#45;&gt;19 -->\n<g class=\"edge\" id=\"edge19\">\n<title>17-&gt;19</title>\n<path d=\"M751.4209,-341.8796C762.7728,-330.3337 775.0982,-317.7976 786.457,-306.2446\" fill=\"none\" stroke=\"#000000\"/>\n<polygon fill=\"#000000\" points=\"789.2466,-308.3995 793.7618,-298.8149 784.2551,-303.4919 789.2466,-308.3995\" stroke=\"#000000\"/>\n</g>\n<!-- 22 -->\n<g class=\"node\" id=\"node23\">\n<title>22</title>\n<path d=\"M1133,-544C1133,-544 1004,-544 1004,-544 998,-544 992,-538 992,-532 992,-532 992,-473 992,-473 992,-467 998,-461 1004,-461 1004,-461 1133,-461 1133,-461 1139,-461 1145,-467 1145,-473 1145,-473 1145,-532 1145,-532 1145,-538 1139,-544 1133,-544\" fill=\"#eeab7b\" stroke=\"#000000\"/>\n<text fill=\"#000000\" font-family=\"Helvetica,sans-Serif\" font-size=\"14.00\" text-anchor=\"start\" x=\"1000\" y=\"-528.8\">perimeter_se ≤ 1.632</text>\n<text fill=\"#000000\" font-family=\"Helvetica,sans-Serif\" font-size=\"14.00\" text-anchor=\"start\" x=\"1030.5\" y=\"-513.8\">gini = 0.375</text>\n<text fill=\"#000000\" font-family=\"Helvetica,sans-Serif\" font-size=\"14.00\" text-anchor=\"start\" x=\"1029\" y=\"-498.8\">samples = 4</text>\n<text fill=\"#000000\" font-family=\"Helvetica,sans-Serif\" font-size=\"14.00\" text-anchor=\"start\" x=\"1027\" y=\"-483.8\">value = [3, 1]</text>\n<text fill=\"#000000\" font-family=\"Helvetica,sans-Serif\" font-size=\"14.00\" text-anchor=\"start\" x=\"1039.5\" y=\"-468.8\">class = 0</text>\n</g>\n<!-- 21&#45;&gt;22 -->\n<g class=\"edge\" id=\"edge22\">\n<title>21-&gt;22</title>\n<path d=\"M1126.3721,-579.8796C1119.771,-571.0534 1112.7371,-561.6485 1105.9298,-552.5466\" fill=\"none\" stroke=\"#000000\"/>\n<polygon fill=\"#000000\" points=\"1108.5528,-550.2099 1099.7607,-544.2981 1102.9472,-554.4024 1108.5528,-550.2099\" stroke=\"#000000\"/>\n</g>\n<!-- 25 -->\n<g class=\"node\" id=\"node26\">\n<title>25</title>\n<path d=\"M1323.5,-544C1323.5,-544 1175.5,-544 1175.5,-544 1169.5,-544 1163.5,-538 1163.5,-532 1163.5,-532 1163.5,-473 1163.5,-473 1163.5,-467 1169.5,-461 1175.5,-461 1175.5,-461 1323.5,-461 1323.5,-461 1329.5,-461 1335.5,-467 1335.5,-473 1335.5,-473 1335.5,-532 1335.5,-532 1335.5,-538 1329.5,-544 1323.5,-544\" fill=\"#4ba6e7\" stroke=\"#000000\"/>\n<text fill=\"#000000\" font-family=\"Helvetica,sans-Serif\" font-size=\"14.00\" text-anchor=\"start\" x=\"1171.5\" y=\"-528.8\">smoothness_se ≤ 0.007</text>\n<text fill=\"#000000\" font-family=\"Helvetica,sans-Serif\" font-size=\"14.00\" text-anchor=\"start\" x=\"1211.5\" y=\"-513.8\">gini = 0.153</text>\n<text fill=\"#000000\" font-family=\"Helvetica,sans-Serif\" font-size=\"14.00\" text-anchor=\"start\" x=\"1205.5\" y=\"-498.8\">samples = 12</text>\n<text fill=\"#000000\" font-family=\"Helvetica,sans-Serif\" font-size=\"14.00\" text-anchor=\"start\" x=\"1204\" y=\"-483.8\">value = [1, 11]</text>\n<text fill=\"#000000\" font-family=\"Helvetica,sans-Serif\" font-size=\"14.00\" text-anchor=\"start\" x=\"1220.5\" y=\"-468.8\">class = 1</text>\n</g>\n<!-- 21&#45;&gt;25 -->\n<g class=\"edge\" id=\"edge25\">\n<title>21-&gt;25</title>\n<path d=\"M1189.6771,-579.8796C1196.5704,-570.9633 1203.9202,-561.4565 1211.0239,-552.268\" fill=\"none\" stroke=\"#000000\"/>\n<polygon fill=\"#000000\" points=\"1213.8381,-554.3502 1217.1855,-544.2981 1208.3001,-550.0687 1213.8381,-554.3502\" stroke=\"#000000\"/>\n</g>\n<!-- 23 -->\n<g class=\"node\" id=\"node24\">\n<title>23</title>\n<path d=\"M1028,-417.5C1028,-417.5 953,-417.5 953,-417.5 947,-417.5 941,-411.5 941,-405.5 941,-405.5 941,-361.5 941,-361.5 941,-355.5 947,-349.5 953,-349.5 953,-349.5 1028,-349.5 1028,-349.5 1034,-349.5 1040,-355.5 1040,-361.5 1040,-361.5 1040,-405.5 1040,-405.5 1040,-411.5 1034,-417.5 1028,-417.5\" fill=\"#399de5\" stroke=\"#000000\"/>\n<text fill=\"#000000\" font-family=\"Helvetica,sans-Serif\" font-size=\"14.00\" text-anchor=\"start\" x=\"961\" y=\"-402.3\">gini = 0.0</text>\n<text fill=\"#000000\" font-family=\"Helvetica,sans-Serif\" font-size=\"14.00\" text-anchor=\"start\" x=\"951\" y=\"-387.3\">samples = 1</text>\n<text fill=\"#000000\" font-family=\"Helvetica,sans-Serif\" font-size=\"14.00\" text-anchor=\"start\" x=\"949\" y=\"-372.3\">value = [0, 1]</text>\n<text fill=\"#000000\" font-family=\"Helvetica,sans-Serif\" font-size=\"14.00\" text-anchor=\"start\" x=\"961.5\" y=\"-357.3\">class = 1</text>\n</g>\n<!-- 22&#45;&gt;23 -->\n<g class=\"edge\" id=\"edge23\">\n<title>22-&gt;23</title>\n<path d=\"M1041.2194,-460.8796C1033.8677,-449.6636 1025.9036,-437.5131 1018.5126,-426.2372\" fill=\"none\" stroke=\"#000000\"/>\n<polygon fill=\"#000000\" points=\"1021.4014,-424.2598 1012.9921,-417.8149 1015.5469,-428.0972 1021.4014,-424.2598\" stroke=\"#000000\"/>\n</g>\n<!-- 24 -->\n<g class=\"node\" id=\"node25\">\n<title>24</title>\n<path d=\"M1145,-417.5C1145,-417.5 1070,-417.5 1070,-417.5 1064,-417.5 1058,-411.5 1058,-405.5 1058,-405.5 1058,-361.5 1058,-361.5 1058,-355.5 1064,-349.5 1070,-349.5 1070,-349.5 1145,-349.5 1145,-349.5 1151,-349.5 1157,-355.5 1157,-361.5 1157,-361.5 1157,-405.5 1157,-405.5 1157,-411.5 1151,-417.5 1145,-417.5\" fill=\"#e58139\" stroke=\"#000000\"/>\n<text fill=\"#000000\" font-family=\"Helvetica,sans-Serif\" font-size=\"14.00\" text-anchor=\"start\" x=\"1078\" y=\"-402.3\">gini = 0.0</text>\n<text fill=\"#000000\" font-family=\"Helvetica,sans-Serif\" font-size=\"14.00\" text-anchor=\"start\" x=\"1068\" y=\"-387.3\">samples = 3</text>\n<text fill=\"#000000\" font-family=\"Helvetica,sans-Serif\" font-size=\"14.00\" text-anchor=\"start\" x=\"1066\" y=\"-372.3\">value = [3, 0]</text>\n<text fill=\"#000000\" font-family=\"Helvetica,sans-Serif\" font-size=\"14.00\" text-anchor=\"start\" x=\"1078.5\" y=\"-357.3\">class = 0</text>\n</g>\n<!-- 22&#45;&gt;24 -->\n<g class=\"edge\" id=\"edge24\">\n<title>22-&gt;24</title>\n<path d=\"M1082.1403,-460.8796C1085.672,-450.1034 1089.4864,-438.4647 1093.0576,-427.5677\" fill=\"none\" stroke=\"#000000\"/>\n<polygon fill=\"#000000\" points=\"1096.4655,-428.4077 1096.2539,-417.8149 1089.8136,-426.2276 1096.4655,-428.4077\" stroke=\"#000000\"/>\n</g>\n<!-- 26 -->\n<g class=\"node\" id=\"node27\">\n<title>26</title>\n<path d=\"M1270,-417.5C1270,-417.5 1187,-417.5 1187,-417.5 1181,-417.5 1175,-411.5 1175,-405.5 1175,-405.5 1175,-361.5 1175,-361.5 1175,-355.5 1181,-349.5 1187,-349.5 1187,-349.5 1270,-349.5 1270,-349.5 1276,-349.5 1282,-355.5 1282,-361.5 1282,-361.5 1282,-405.5 1282,-405.5 1282,-411.5 1276,-417.5 1270,-417.5\" fill=\"#399de5\" stroke=\"#000000\"/>\n<text fill=\"#000000\" font-family=\"Helvetica,sans-Serif\" font-size=\"14.00\" text-anchor=\"start\" x=\"1199\" y=\"-402.3\">gini = 0.0</text>\n<text fill=\"#000000\" font-family=\"Helvetica,sans-Serif\" font-size=\"14.00\" text-anchor=\"start\" x=\"1184.5\" y=\"-387.3\">samples = 10</text>\n<text fill=\"#000000\" font-family=\"Helvetica,sans-Serif\" font-size=\"14.00\" text-anchor=\"start\" x=\"1183\" y=\"-372.3\">value = [0, 10]</text>\n<text fill=\"#000000\" font-family=\"Helvetica,sans-Serif\" font-size=\"14.00\" text-anchor=\"start\" x=\"1199.5\" y=\"-357.3\">class = 1</text>\n</g>\n<!-- 25&#45;&gt;26 -->\n<g class=\"edge\" id=\"edge26\">\n<title>25-&gt;26</title>\n<path d=\"M1242.1552,-460.8796C1240.2729,-450.2134 1238.2415,-438.7021 1236.3356,-427.9015\" fill=\"none\" stroke=\"#000000\"/>\n<polygon fill=\"#000000\" points=\"1239.7403,-427.0545 1234.5556,-417.8149 1232.8468,-428.2711 1239.7403,-427.0545\" stroke=\"#000000\"/>\n</g>\n<!-- 27 -->\n<g class=\"node\" id=\"node28\">\n<title>27</title>\n<path d=\"M1500.5,-425C1500.5,-425 1312.5,-425 1312.5,-425 1306.5,-425 1300.5,-419 1300.5,-413 1300.5,-413 1300.5,-354 1300.5,-354 1300.5,-348 1306.5,-342 1312.5,-342 1312.5,-342 1500.5,-342 1500.5,-342 1506.5,-342 1512.5,-348 1512.5,-354 1512.5,-354 1512.5,-413 1512.5,-413 1512.5,-419 1506.5,-425 1500.5,-425\" fill=\"#ffffff\" stroke=\"#000000\"/>\n<text fill=\"#000000\" font-family=\"Helvetica,sans-Serif\" font-size=\"14.00\" text-anchor=\"start\" x=\"1308.5\" y=\"-409.8\">concave points_mean ≤ 0.057</text>\n<text fill=\"#000000\" font-family=\"Helvetica,sans-Serif\" font-size=\"14.00\" text-anchor=\"start\" x=\"1377\" y=\"-394.8\">gini = 0.5</text>\n<text fill=\"#000000\" font-family=\"Helvetica,sans-Serif\" font-size=\"14.00\" text-anchor=\"start\" x=\"1367\" y=\"-379.8\">samples = 2</text>\n<text fill=\"#000000\" font-family=\"Helvetica,sans-Serif\" font-size=\"14.00\" text-anchor=\"start\" x=\"1365\" y=\"-364.8\">value = [1, 1]</text>\n<text fill=\"#000000\" font-family=\"Helvetica,sans-Serif\" font-size=\"14.00\" text-anchor=\"start\" x=\"1377.5\" y=\"-349.8\">class = 0</text>\n</g>\n<!-- 25&#45;&gt;27 -->\n<g class=\"edge\" id=\"edge27\">\n<title>25-&gt;27</title>\n<path d=\"M1304.411,-460.8796C1317.0794,-451.2774 1330.6515,-440.9903 1343.6295,-431.1534\" fill=\"none\" stroke=\"#000000\"/>\n<polygon fill=\"#000000\" points=\"1345.7648,-433.9268 1351.62,-425.0969 1341.5364,-428.3482 1345.7648,-433.9268\" stroke=\"#000000\"/>\n</g>\n<!-- 28 -->\n<g class=\"node\" id=\"node29\">\n<title>28</title>\n<path d=\"M1385,-298.5C1385,-298.5 1310,-298.5 1310,-298.5 1304,-298.5 1298,-292.5 1298,-286.5 1298,-286.5 1298,-242.5 1298,-242.5 1298,-236.5 1304,-230.5 1310,-230.5 1310,-230.5 1385,-230.5 1385,-230.5 1391,-230.5 1397,-236.5 1397,-242.5 1397,-242.5 1397,-286.5 1397,-286.5 1397,-292.5 1391,-298.5 1385,-298.5\" fill=\"#e58139\" stroke=\"#000000\"/>\n<text fill=\"#000000\" font-family=\"Helvetica,sans-Serif\" font-size=\"14.00\" text-anchor=\"start\" x=\"1318\" y=\"-283.3\">gini = 0.0</text>\n<text fill=\"#000000\" font-family=\"Helvetica,sans-Serif\" font-size=\"14.00\" text-anchor=\"start\" x=\"1308\" y=\"-268.3\">samples = 1</text>\n<text fill=\"#000000\" font-family=\"Helvetica,sans-Serif\" font-size=\"14.00\" text-anchor=\"start\" x=\"1306\" y=\"-253.3\">value = [1, 0]</text>\n<text fill=\"#000000\" font-family=\"Helvetica,sans-Serif\" font-size=\"14.00\" text-anchor=\"start\" x=\"1318.5\" y=\"-238.3\">class = 0</text>\n</g>\n<!-- 27&#45;&gt;28 -->\n<g class=\"edge\" id=\"edge28\">\n<title>27-&gt;28</title>\n<path d=\"M1385.8647,-341.8796C1380.4128,-330.8835 1374.5157,-318.9893 1369.0184,-307.9015\" fill=\"none\" stroke=\"#000000\"/>\n<polygon fill=\"#000000\" points=\"1372.0911,-306.2195 1364.5133,-298.8149 1365.8196,-309.3289 1372.0911,-306.2195\" stroke=\"#000000\"/>\n</g>\n<!-- 29 -->\n<g class=\"node\" id=\"node30\">\n<title>29</title>\n<path d=\"M1502,-298.5C1502,-298.5 1427,-298.5 1427,-298.5 1421,-298.5 1415,-292.5 1415,-286.5 1415,-286.5 1415,-242.5 1415,-242.5 1415,-236.5 1421,-230.5 1427,-230.5 1427,-230.5 1502,-230.5 1502,-230.5 1508,-230.5 1514,-236.5 1514,-242.5 1514,-242.5 1514,-286.5 1514,-286.5 1514,-292.5 1508,-298.5 1502,-298.5\" fill=\"#399de5\" stroke=\"#000000\"/>\n<text fill=\"#000000\" font-family=\"Helvetica,sans-Serif\" font-size=\"14.00\" text-anchor=\"start\" x=\"1435\" y=\"-283.3\">gini = 0.0</text>\n<text fill=\"#000000\" font-family=\"Helvetica,sans-Serif\" font-size=\"14.00\" text-anchor=\"start\" x=\"1425\" y=\"-268.3\">samples = 1</text>\n<text fill=\"#000000\" font-family=\"Helvetica,sans-Serif\" font-size=\"14.00\" text-anchor=\"start\" x=\"1423\" y=\"-253.3\">value = [0, 1]</text>\n<text fill=\"#000000\" font-family=\"Helvetica,sans-Serif\" font-size=\"14.00\" text-anchor=\"start\" x=\"1435.5\" y=\"-238.3\">class = 1</text>\n</g>\n<!-- 27&#45;&gt;29 -->\n<g class=\"edge\" id=\"edge29\">\n<title>27-&gt;29</title>\n<path d=\"M1426.7856,-341.8796C1432.145,-330.8835 1437.9422,-318.9893 1443.3463,-307.9015\" fill=\"none\" stroke=\"#000000\"/>\n<polygon fill=\"#000000\" points=\"1446.54,-309.3375 1447.7751,-298.8149 1440.2476,-306.2706 1446.54,-309.3375\" stroke=\"#000000\"/>\n</g>\n<!-- 31 -->\n<g class=\"node\" id=\"node32\">\n<title>31</title>\n<path d=\"M1554,-663C1554,-663 1423,-663 1423,-663 1417,-663 1411,-657 1411,-651 1411,-651 1411,-592 1411,-592 1411,-586 1417,-580 1423,-580 1423,-580 1554,-580 1554,-580 1560,-580 1566,-586 1566,-592 1566,-592 1566,-651 1566,-651 1566,-657 1560,-663 1554,-663\" fill=\"#f5d0b5\" stroke=\"#000000\"/>\n<text fill=\"#000000\" font-family=\"Helvetica,sans-Serif\" font-size=\"14.00\" text-anchor=\"start\" x=\"1419\" y=\"-647.8\">texture_worst ≤ 25.59</text>\n<text fill=\"#000000\" font-family=\"Helvetica,sans-Serif\" font-size=\"14.00\" text-anchor=\"start\" x=\"1450.5\" y=\"-632.8\">gini = 0.473</text>\n<text fill=\"#000000\" font-family=\"Helvetica,sans-Serif\" font-size=\"14.00\" text-anchor=\"start\" x=\"1444.5\" y=\"-617.8\">samples = 13</text>\n<text fill=\"#000000\" font-family=\"Helvetica,sans-Serif\" font-size=\"14.00\" text-anchor=\"start\" x=\"1447\" y=\"-602.8\">value = [8, 5]</text>\n<text fill=\"#000000\" font-family=\"Helvetica,sans-Serif\" font-size=\"14.00\" text-anchor=\"start\" x=\"1459.5\" y=\"-587.8\">class = 0</text>\n</g>\n<!-- 30&#45;&gt;31 -->\n<g class=\"edge\" id=\"edge31\">\n<title>30-&gt;31</title>\n<path d=\"M1488.5,-698.8796C1488.5,-690.6838 1488.5,-681.9891 1488.5,-673.5013\" fill=\"none\" stroke=\"#000000\"/>\n<polygon fill=\"#000000\" points=\"1492.0001,-673.298 1488.5,-663.2981 1485.0001,-673.2981 1492.0001,-673.298\" stroke=\"#000000\"/>\n</g>\n<!-- 36 -->\n<g class=\"node\" id=\"node37\">\n<title>36</title>\n<path d=\"M1810.5,-663C1810.5,-663 1660.5,-663 1660.5,-663 1654.5,-663 1648.5,-657 1648.5,-651 1648.5,-651 1648.5,-592 1648.5,-592 1648.5,-586 1654.5,-580 1660.5,-580 1660.5,-580 1810.5,-580 1810.5,-580 1816.5,-580 1822.5,-586 1822.5,-592 1822.5,-592 1822.5,-651 1822.5,-651 1822.5,-657 1816.5,-663 1810.5,-663\" fill=\"#3e9fe6\" stroke=\"#000000\"/>\n<text fill=\"#000000\" font-family=\"Helvetica,sans-Serif\" font-size=\"14.00\" text-anchor=\"start\" x=\"1656.5\" y=\"-647.8\">perimeter_mean ≤ 76.98</text>\n<text fill=\"#000000\" font-family=\"Helvetica,sans-Serif\" font-size=\"14.00\" text-anchor=\"start\" x=\"1697.5\" y=\"-632.8\">gini = 0.045</text>\n<text fill=\"#000000\" font-family=\"Helvetica,sans-Serif\" font-size=\"14.00\" text-anchor=\"start\" x=\"1687.5\" y=\"-617.8\">samples = 130</text>\n<text fill=\"#000000\" font-family=\"Helvetica,sans-Serif\" font-size=\"14.00\" text-anchor=\"start\" x=\"1685.5\" y=\"-602.8\">value = [3, 127]</text>\n<text fill=\"#000000\" font-family=\"Helvetica,sans-Serif\" font-size=\"14.00\" text-anchor=\"start\" x=\"1706.5\" y=\"-587.8\">class = 1</text>\n</g>\n<!-- 30&#45;&gt;36 -->\n<g class=\"edge\" id=\"edge36\">\n<title>30-&gt;36</title>\n<path d=\"M1553.7194,-709.0785C1580.0293,-696.4029 1610.9178,-681.5214 1639.692,-667.6585\" fill=\"none\" stroke=\"#000000\"/>\n<polygon fill=\"#000000\" points=\"1641.4616,-670.691 1648.9515,-663.1975 1638.4234,-664.3847 1641.4616,-670.691\" stroke=\"#000000\"/>\n</g>\n<!-- 32 -->\n<g class=\"node\" id=\"node33\">\n<title>32</title>\n<path d=\"M1463,-536.5C1463,-536.5 1388,-536.5 1388,-536.5 1382,-536.5 1376,-530.5 1376,-524.5 1376,-524.5 1376,-480.5 1376,-480.5 1376,-474.5 1382,-468.5 1388,-468.5 1388,-468.5 1463,-468.5 1463,-468.5 1469,-468.5 1475,-474.5 1475,-480.5 1475,-480.5 1475,-524.5 1475,-524.5 1475,-530.5 1469,-536.5 1463,-536.5\" fill=\"#e58139\" stroke=\"#000000\"/>\n<text fill=\"#000000\" font-family=\"Helvetica,sans-Serif\" font-size=\"14.00\" text-anchor=\"start\" x=\"1396\" y=\"-521.3\">gini = 0.0</text>\n<text fill=\"#000000\" font-family=\"Helvetica,sans-Serif\" font-size=\"14.00\" text-anchor=\"start\" x=\"1386\" y=\"-506.3\">samples = 7</text>\n<text fill=\"#000000\" font-family=\"Helvetica,sans-Serif\" font-size=\"14.00\" text-anchor=\"start\" x=\"1384\" y=\"-491.3\">value = [7, 0]</text>\n<text fill=\"#000000\" font-family=\"Helvetica,sans-Serif\" font-size=\"14.00\" text-anchor=\"start\" x=\"1396.5\" y=\"-476.3\">class = 0</text>\n</g>\n<!-- 31&#45;&gt;32 -->\n<g class=\"edge\" id=\"edge32\">\n<title>31-&gt;32</title>\n<path d=\"M1466.4657,-579.8796C1460.6442,-568.8835 1454.3473,-556.9893 1448.4773,-545.9015\" fill=\"none\" stroke=\"#000000\"/>\n<polygon fill=\"#000000\" points=\"1451.4389,-544.0152 1443.6667,-536.8149 1445.2524,-547.2905 1451.4389,-544.0152\" stroke=\"#000000\"/>\n</g>\n<!-- 33 -->\n<g class=\"node\" id=\"node34\">\n<title>33</title>\n<path d=\"M1655.5,-544C1655.5,-544 1505.5,-544 1505.5,-544 1499.5,-544 1493.5,-538 1493.5,-532 1493.5,-532 1493.5,-473 1493.5,-473 1493.5,-467 1499.5,-461 1505.5,-461 1505.5,-461 1655.5,-461 1655.5,-461 1661.5,-461 1667.5,-467 1667.5,-473 1667.5,-473 1667.5,-532 1667.5,-532 1667.5,-538 1661.5,-544 1655.5,-544\" fill=\"#61b1ea\" stroke=\"#000000\"/>\n<text fill=\"#000000\" font-family=\"Helvetica,sans-Serif\" font-size=\"14.00\" text-anchor=\"start\" x=\"1501.5\" y=\"-528.8\">symmetry_worst ≤ 0.268</text>\n<text fill=\"#000000\" font-family=\"Helvetica,sans-Serif\" font-size=\"14.00\" text-anchor=\"start\" x=\"1542.5\" y=\"-513.8\">gini = 0.278</text>\n<text fill=\"#000000\" font-family=\"Helvetica,sans-Serif\" font-size=\"14.00\" text-anchor=\"start\" x=\"1541\" y=\"-498.8\">samples = 6</text>\n<text fill=\"#000000\" font-family=\"Helvetica,sans-Serif\" font-size=\"14.00\" text-anchor=\"start\" x=\"1539\" y=\"-483.8\">value = [1, 5]</text>\n<text fill=\"#000000\" font-family=\"Helvetica,sans-Serif\" font-size=\"14.00\" text-anchor=\"start\" x=\"1551.5\" y=\"-468.8\">class = 1</text>\n</g>\n<!-- 31&#45;&gt;33 -->\n<g class=\"edge\" id=\"edge33\">\n<title>31-&gt;33</title>\n<path d=\"M1520.6771,-579.8796C1527.5704,-570.9633 1534.9202,-561.4565 1542.0239,-552.268\" fill=\"none\" stroke=\"#000000\"/>\n<polygon fill=\"#000000\" points=\"1544.8381,-554.3502 1548.1855,-544.2981 1539.3001,-550.0687 1544.8381,-554.3502\" stroke=\"#000000\"/>\n</g>\n<!-- 34 -->\n<g class=\"node\" id=\"node35\">\n<title>34</title>\n<path d=\"M1618,-417.5C1618,-417.5 1543,-417.5 1543,-417.5 1537,-417.5 1531,-411.5 1531,-405.5 1531,-405.5 1531,-361.5 1531,-361.5 1531,-355.5 1537,-349.5 1543,-349.5 1543,-349.5 1618,-349.5 1618,-349.5 1624,-349.5 1630,-355.5 1630,-361.5 1630,-361.5 1630,-405.5 1630,-405.5 1630,-411.5 1624,-417.5 1618,-417.5\" fill=\"#e58139\" stroke=\"#000000\"/>\n<text fill=\"#000000\" font-family=\"Helvetica,sans-Serif\" font-size=\"14.00\" text-anchor=\"start\" x=\"1551\" y=\"-402.3\">gini = 0.0</text>\n<text fill=\"#000000\" font-family=\"Helvetica,sans-Serif\" font-size=\"14.00\" text-anchor=\"start\" x=\"1541\" y=\"-387.3\">samples = 1</text>\n<text fill=\"#000000\" font-family=\"Helvetica,sans-Serif\" font-size=\"14.00\" text-anchor=\"start\" x=\"1539\" y=\"-372.3\">value = [1, 0]</text>\n<text fill=\"#000000\" font-family=\"Helvetica,sans-Serif\" font-size=\"14.00\" text-anchor=\"start\" x=\"1551.5\" y=\"-357.3\">class = 0</text>\n</g>\n<!-- 33&#45;&gt;34 -->\n<g class=\"edge\" id=\"edge34\">\n<title>33-&gt;34</title>\n<path d=\"M1580.5,-460.8796C1580.5,-450.2134 1580.5,-438.7021 1580.5,-427.9015\" fill=\"none\" stroke=\"#000000\"/>\n<polygon fill=\"#000000\" points=\"1584.0001,-427.8149 1580.5,-417.8149 1577.0001,-427.815 1584.0001,-427.8149\" stroke=\"#000000\"/>\n</g>\n<!-- 35 -->\n<g class=\"node\" id=\"node36\">\n<title>35</title>\n<path d=\"M1735,-417.5C1735,-417.5 1660,-417.5 1660,-417.5 1654,-417.5 1648,-411.5 1648,-405.5 1648,-405.5 1648,-361.5 1648,-361.5 1648,-355.5 1654,-349.5 1660,-349.5 1660,-349.5 1735,-349.5 1735,-349.5 1741,-349.5 1747,-355.5 1747,-361.5 1747,-361.5 1747,-405.5 1747,-405.5 1747,-411.5 1741,-417.5 1735,-417.5\" fill=\"#399de5\" stroke=\"#000000\"/>\n<text fill=\"#000000\" font-family=\"Helvetica,sans-Serif\" font-size=\"14.00\" text-anchor=\"start\" x=\"1668\" y=\"-402.3\">gini = 0.0</text>\n<text fill=\"#000000\" font-family=\"Helvetica,sans-Serif\" font-size=\"14.00\" text-anchor=\"start\" x=\"1658\" y=\"-387.3\">samples = 5</text>\n<text fill=\"#000000\" font-family=\"Helvetica,sans-Serif\" font-size=\"14.00\" text-anchor=\"start\" x=\"1656\" y=\"-372.3\">value = [0, 5]</text>\n<text fill=\"#000000\" font-family=\"Helvetica,sans-Serif\" font-size=\"14.00\" text-anchor=\"start\" x=\"1668.5\" y=\"-357.3\">class = 1</text>\n</g>\n<!-- 33&#45;&gt;35 -->\n<g class=\"edge\" id=\"edge35\">\n<title>33-&gt;35</title>\n<path d=\"M1621.4209,-460.8796C1632.7728,-449.3337 1645.0982,-436.7976 1656.457,-425.2446\" fill=\"none\" stroke=\"#000000\"/>\n<polygon fill=\"#000000\" points=\"1659.2466,-427.3995 1663.7618,-417.8149 1654.2551,-422.4919 1659.2466,-427.3995\" stroke=\"#000000\"/>\n</g>\n<!-- 37 -->\n<g class=\"node\" id=\"node38\">\n<title>37</title>\n<path d=\"M1773,-536.5C1773,-536.5 1698,-536.5 1698,-536.5 1692,-536.5 1686,-530.5 1686,-524.5 1686,-524.5 1686,-480.5 1686,-480.5 1686,-474.5 1692,-468.5 1698,-468.5 1698,-468.5 1773,-468.5 1773,-468.5 1779,-468.5 1785,-474.5 1785,-480.5 1785,-480.5 1785,-524.5 1785,-524.5 1785,-530.5 1779,-536.5 1773,-536.5\" fill=\"#e58139\" stroke=\"#000000\"/>\n<text fill=\"#000000\" font-family=\"Helvetica,sans-Serif\" font-size=\"14.00\" text-anchor=\"start\" x=\"1706\" y=\"-521.3\">gini = 0.0</text>\n<text fill=\"#000000\" font-family=\"Helvetica,sans-Serif\" font-size=\"14.00\" text-anchor=\"start\" x=\"1696\" y=\"-506.3\">samples = 1</text>\n<text fill=\"#000000\" font-family=\"Helvetica,sans-Serif\" font-size=\"14.00\" text-anchor=\"start\" x=\"1694\" y=\"-491.3\">value = [1, 0]</text>\n<text fill=\"#000000\" font-family=\"Helvetica,sans-Serif\" font-size=\"14.00\" text-anchor=\"start\" x=\"1706.5\" y=\"-476.3\">class = 0</text>\n</g>\n<!-- 36&#45;&gt;37 -->\n<g class=\"edge\" id=\"edge37\">\n<title>36-&gt;37</title>\n<path d=\"M1735.5,-579.8796C1735.5,-569.2134 1735.5,-557.7021 1735.5,-546.9015\" fill=\"none\" stroke=\"#000000\"/>\n<polygon fill=\"#000000\" points=\"1739.0001,-546.8149 1735.5,-536.8149 1732.0001,-546.815 1739.0001,-546.8149\" stroke=\"#000000\"/>\n</g>\n<!-- 38 -->\n<g class=\"node\" id=\"node39\">\n<title>38</title>\n<path d=\"M1964,-544C1964,-544 1815,-544 1815,-544 1809,-544 1803,-538 1803,-532 1803,-532 1803,-473 1803,-473 1803,-467 1809,-461 1815,-461 1815,-461 1964,-461 1964,-461 1970,-461 1976,-467 1976,-473 1976,-473 1976,-532 1976,-532 1976,-538 1970,-544 1964,-544\" fill=\"#3c9fe5\" stroke=\"#000000\"/>\n<text fill=\"#000000\" font-family=\"Helvetica,sans-Serif\" font-size=\"14.00\" text-anchor=\"start\" x=\"1811\" y=\"-528.8\">concavity_worst ≤ 0.213</text>\n<text fill=\"#000000\" font-family=\"Helvetica,sans-Serif\" font-size=\"14.00\" text-anchor=\"start\" x=\"1851.5\" y=\"-513.8\">gini = 0.031</text>\n<text fill=\"#000000\" font-family=\"Helvetica,sans-Serif\" font-size=\"14.00\" text-anchor=\"start\" x=\"1841.5\" y=\"-498.8\">samples = 129</text>\n<text fill=\"#000000\" font-family=\"Helvetica,sans-Serif\" font-size=\"14.00\" text-anchor=\"start\" x=\"1839.5\" y=\"-483.8\">value = [2, 127]</text>\n<text fill=\"#000000\" font-family=\"Helvetica,sans-Serif\" font-size=\"14.00\" text-anchor=\"start\" x=\"1860.5\" y=\"-468.8\">class = 1</text>\n</g>\n<!-- 36&#45;&gt;38 -->\n<g class=\"edge\" id=\"edge38\">\n<title>36-&gt;38</title>\n<path d=\"M1789.3617,-579.8796C1801.6709,-570.368 1814.8497,-560.1843 1827.4704,-550.432\" fill=\"none\" stroke=\"#000000\"/>\n<polygon fill=\"#000000\" points=\"1829.8959,-552.9809 1835.6687,-544.0969 1825.6157,-547.4419 1829.8959,-552.9809\" stroke=\"#000000\"/>\n</g>\n<!-- 39 -->\n<g class=\"node\" id=\"node40\">\n<title>39</title>\n<path d=\"M1889,-417.5C1889,-417.5 1814,-417.5 1814,-417.5 1808,-417.5 1802,-411.5 1802,-405.5 1802,-405.5 1802,-361.5 1802,-361.5 1802,-355.5 1808,-349.5 1814,-349.5 1814,-349.5 1889,-349.5 1889,-349.5 1895,-349.5 1901,-355.5 1901,-361.5 1901,-361.5 1901,-405.5 1901,-405.5 1901,-411.5 1895,-417.5 1889,-417.5\" fill=\"#e58139\" stroke=\"#000000\"/>\n<text fill=\"#000000\" font-family=\"Helvetica,sans-Serif\" font-size=\"14.00\" text-anchor=\"start\" x=\"1822\" y=\"-402.3\">gini = 0.0</text>\n<text fill=\"#000000\" font-family=\"Helvetica,sans-Serif\" font-size=\"14.00\" text-anchor=\"start\" x=\"1812\" y=\"-387.3\">samples = 1</text>\n<text fill=\"#000000\" font-family=\"Helvetica,sans-Serif\" font-size=\"14.00\" text-anchor=\"start\" x=\"1810\" y=\"-372.3\">value = [1, 0]</text>\n<text fill=\"#000000\" font-family=\"Helvetica,sans-Serif\" font-size=\"14.00\" text-anchor=\"start\" x=\"1822.5\" y=\"-357.3\">class = 0</text>\n</g>\n<!-- 38&#45;&gt;39 -->\n<g class=\"edge\" id=\"edge39\">\n<title>38-&gt;39</title>\n<path d=\"M1876.2094,-460.8796C1872.7683,-450.1034 1869.0517,-438.4647 1865.5721,-427.5677\" fill=\"none\" stroke=\"#000000\"/>\n<polygon fill=\"#000000\" points=\"1868.8339,-426.2763 1862.4577,-417.8149 1862.1656,-428.4057 1868.8339,-426.2763\" stroke=\"#000000\"/>\n</g>\n<!-- 40 -->\n<g class=\"node\" id=\"node41\">\n<title>40</title>\n<path d=\"M2113.5,-425C2113.5,-425 1931.5,-425 1931.5,-425 1925.5,-425 1919.5,-419 1919.5,-413 1919.5,-413 1919.5,-354 1919.5,-354 1919.5,-348 1925.5,-342 1931.5,-342 1931.5,-342 2113.5,-342 2113.5,-342 2119.5,-342 2125.5,-348 2125.5,-354 2125.5,-354 2125.5,-413 2125.5,-413 2125.5,-419 2119.5,-425 2113.5,-425\" fill=\"#3b9ee5\" stroke=\"#000000\"/>\n<text fill=\"#000000\" font-family=\"Helvetica,sans-Serif\" font-size=\"14.00\" text-anchor=\"start\" x=\"1927.5\" y=\"-409.8\">fractal_dimension_se ≤ 0.012</text>\n<text fill=\"#000000\" font-family=\"Helvetica,sans-Serif\" font-size=\"14.00\" text-anchor=\"start\" x=\"1984.5\" y=\"-394.8\">gini = 0.016</text>\n<text fill=\"#000000\" font-family=\"Helvetica,sans-Serif\" font-size=\"14.00\" text-anchor=\"start\" x=\"1974.5\" y=\"-379.8\">samples = 128</text>\n<text fill=\"#000000\" font-family=\"Helvetica,sans-Serif\" font-size=\"14.00\" text-anchor=\"start\" x=\"1972.5\" y=\"-364.8\">value = [1, 127]</text>\n<text fill=\"#000000\" font-family=\"Helvetica,sans-Serif\" font-size=\"14.00\" text-anchor=\"start\" x=\"1993.5\" y=\"-349.8\">class = 1</text>\n</g>\n<!-- 38&#45;&gt;40 -->\n<g class=\"edge\" id=\"edge40\">\n<title>38-&gt;40</title>\n<path d=\"M1936.0169,-460.8796C1946.3848,-451.6031 1957.4671,-441.6874 1968.1199,-432.1559\" fill=\"none\" stroke=\"#000000\"/>\n<polygon fill=\"#000000\" points=\"1970.6659,-434.5744 1975.7845,-425.2981 1965.9983,-429.3577 1970.6659,-434.5744\" stroke=\"#000000\"/>\n</g>\n<!-- 41 -->\n<g class=\"node\" id=\"node42\">\n<title>41</title>\n<path d=\"M2005.5,-298.5C2005.5,-298.5 1913.5,-298.5 1913.5,-298.5 1907.5,-298.5 1901.5,-292.5 1901.5,-286.5 1901.5,-286.5 1901.5,-242.5 1901.5,-242.5 1901.5,-236.5 1907.5,-230.5 1913.5,-230.5 1913.5,-230.5 2005.5,-230.5 2005.5,-230.5 2011.5,-230.5 2017.5,-236.5 2017.5,-242.5 2017.5,-242.5 2017.5,-286.5 2017.5,-286.5 2017.5,-292.5 2011.5,-298.5 2005.5,-298.5\" fill=\"#399de5\" stroke=\"#000000\"/>\n<text fill=\"#000000\" font-family=\"Helvetica,sans-Serif\" font-size=\"14.00\" text-anchor=\"start\" x=\"1930\" y=\"-283.3\">gini = 0.0</text>\n<text fill=\"#000000\" font-family=\"Helvetica,sans-Serif\" font-size=\"14.00\" text-anchor=\"start\" x=\"1911.5\" y=\"-268.3\">samples = 127</text>\n<text fill=\"#000000\" font-family=\"Helvetica,sans-Serif\" font-size=\"14.00\" text-anchor=\"start\" x=\"1909.5\" y=\"-253.3\">value = [0, 127]</text>\n<text fill=\"#000000\" font-family=\"Helvetica,sans-Serif\" font-size=\"14.00\" text-anchor=\"start\" x=\"1930.5\" y=\"-238.3\">class = 1</text>\n</g>\n<!-- 40&#45;&gt;41 -->\n<g class=\"edge\" id=\"edge41\">\n<title>40-&gt;41</title>\n<path d=\"M2000.4657,-341.8796C1994.6442,-330.8835 1988.3473,-318.9893 1982.4773,-307.9015\" fill=\"none\" stroke=\"#000000\"/>\n<polygon fill=\"#000000\" points=\"1985.4389,-306.0152 1977.6667,-298.8149 1979.2524,-309.2905 1985.4389,-306.0152\" stroke=\"#000000\"/>\n</g>\n<!-- 42 -->\n<g class=\"node\" id=\"node43\">\n<title>42</title>\n<path d=\"M2123,-298.5C2123,-298.5 2048,-298.5 2048,-298.5 2042,-298.5 2036,-292.5 2036,-286.5 2036,-286.5 2036,-242.5 2036,-242.5 2036,-236.5 2042,-230.5 2048,-230.5 2048,-230.5 2123,-230.5 2123,-230.5 2129,-230.5 2135,-236.5 2135,-242.5 2135,-242.5 2135,-286.5 2135,-286.5 2135,-292.5 2129,-298.5 2123,-298.5\" fill=\"#e58139\" stroke=\"#000000\"/>\n<text fill=\"#000000\" font-family=\"Helvetica,sans-Serif\" font-size=\"14.00\" text-anchor=\"start\" x=\"2056\" y=\"-283.3\">gini = 0.0</text>\n<text fill=\"#000000\" font-family=\"Helvetica,sans-Serif\" font-size=\"14.00\" text-anchor=\"start\" x=\"2046\" y=\"-268.3\">samples = 1</text>\n<text fill=\"#000000\" font-family=\"Helvetica,sans-Serif\" font-size=\"14.00\" text-anchor=\"start\" x=\"2044\" y=\"-253.3\">value = [1, 0]</text>\n<text fill=\"#000000\" font-family=\"Helvetica,sans-Serif\" font-size=\"14.00\" text-anchor=\"start\" x=\"2056.5\" y=\"-238.3\">class = 0</text>\n</g>\n<!-- 40&#45;&gt;42 -->\n<g class=\"edge\" id=\"edge42\">\n<title>40-&gt;42</title>\n<path d=\"M2044.5343,-341.8796C2050.3558,-330.8835 2056.6527,-318.9893 2062.5227,-307.9015\" fill=\"none\" stroke=\"#000000\"/>\n<polygon fill=\"#000000\" points=\"2065.7476,-309.2905 2067.3333,-298.8149 2059.5611,-306.0152 2065.7476,-309.2905\" stroke=\"#000000\"/>\n</g>\n</g>\n</svg>"
          },
          "metadata": {
            "tags": []
          }
        }
      ]
    }
  ]
}